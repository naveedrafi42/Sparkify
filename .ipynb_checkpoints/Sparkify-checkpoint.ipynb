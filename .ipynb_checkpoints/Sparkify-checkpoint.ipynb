{
 "cells": [
  {
   "cell_type": "markdown",
   "metadata": {},
   "source": [
    "# Sparkify Project Workspace\n",
    "This workspace contains a tiny subset (128MB) of the full dataset available (12GB). Feel free to use this workspace to build your project, or to explore a smaller subset with Spark before deploying your cluster on the cloud. Instructions for setting up your Spark cluster is included in the last lesson of the Extracurricular Spark Course content.\n",
    "\n",
    "You can follow the steps below to guide your data analysis and model building portion of this project."
   ]
  },
  {
   "cell_type": "code",
   "execution_count": 252,
   "metadata": {},
   "outputs": [],
   "source": [
    "# import libraries\n",
    "from pyspark.sql import SparkSession\n",
    "from pyspark.sql.functions import udf, isnull, udf, col, to_date, max, min, countDistinct\n",
    "import pyspark.sql.functions as f\n",
    "from pyspark.sql.window import Window\n",
    "from pyspark.ml import Pipeline\n",
    "from pyspark.ml.feature import StringIndexer\n",
    "from pyspark.ml.feature import VectorIndexer, VectorAssembler, StandardScaler\n",
    "from pyspark.ml.classification import LogisticRegression, RandomForestClassifier, GBTClassifier\n",
    "from pyspark.ml.evaluation import MulticlassClassificationEvaluator\n",
    "from pyspark.ml.tuning import CrossValidator, ParamGridBuilder\n",
    "from pyspark.mllib.evaluation import MulticlassMetrics\n",
    "from pyspark.sql.types import FloatType\n",
    "\n",
    "\n",
    "from datetime import datetime\n",
    "import matplotlib.pyplot as plt\n",
    "import matplotlib.ticker as ticker\n",
    "import matplotlib.dates as mdates\n",
    "import seaborn as sns\n",
    "import matplotlib.cbook as cbook\n",
    "import numpy as np\n",
    "import pandas as pd\n",
    "\n",
    "%matplotlib inline\n",
    "\n",
    "#set seaborn style\n",
    "sns.set(style=\"whitegrid\")"
   ]
  },
  {
   "cell_type": "code",
   "execution_count": 111,
   "metadata": {},
   "outputs": [],
   "source": [
    "# create a Spark session\n",
    "spark = SparkSession.builder.appName(\"Sparkify churn prediction\").getOrCreate()"
   ]
  },
  {
   "cell_type": "markdown",
   "metadata": {},
   "source": [
    "# Load and Clean Dataset\n",
    "In this workspace, the mini-dataset file is `mini_sparkify_event_data.json`. Load and clean the dataset, checking for invalid or missing data - for example, records without userids or sessionids. "
   ]
  },
  {
   "cell_type": "markdown",
   "metadata": {},
   "source": [
    "<ol>\n",
    "<li>Load data\n",
    "<li>Review data and identify dirty rows\n",
    "<li>Drop dirty rows\n",
    "<li>Check for duplicates\n",
    "<li>Make time human readable"
   ]
  },
  {
   "cell_type": "code",
   "execution_count": 112,
   "metadata": {
    "scrolled": true
   },
   "outputs": [],
   "source": [
    "# Read the sample mini dataset\n",
    "raw_events_df = spark.read.json('mini_sparkify_event_data.json')"
   ]
  },
  {
   "cell_type": "code",
   "execution_count": 113,
   "metadata": {},
   "outputs": [],
   "source": [
    "# function with all raw data exploration statements consolidated\n",
    "def print_raw_data():\n",
    "    # Review columns\n",
    "    raw_events_df.printSchema()\n",
    "    \n",
    "    # number of raw events\n",
    "    print('Number of rows in raw dataset: ' + str(raw_events_df.count()))\n",
    "\n",
    "    # There seem to be 2 ID columns: sessionId and userId\n",
    "    raw_events_df.describe(\"sessionId\").show()\n",
    "\n",
    "    raw_events_df.describe(\"userId\").show()\n",
    "    \n",
    "    print('Number of sessions before cleaning: ' + str(raw_events_df.select('sessionId').distinct().count()))\n",
    "    print('Number of users before cleaning: ' + str(raw_events_df.select('userId').distinct().count()))\n",
    "    \n",
    "    # lets ensure the session and user ID values are valid\n",
    "    raw_events_df.select('userId').where(isnull(raw_events_df.userId)).show()\n",
    "\n",
    "    raw_events_df.select('sessionId').where(isnull(raw_events_df.sessionId)).show()\n",
    "\n",
    "    raw_events_df.groupBy('userId').agg({'userId':'count'}).where(raw_events_df.userId == '') \\\n",
    "        .withColumnRenamed('count(userId)', 'total empty userID rows').show()\n",
    "\n",
    "    raw_events_df.groupBy('sessionId').agg({'sessionId':'count'}).where(raw_events_df.sessionId == '') \\\n",
    "        .withColumnRenamed('count(sessionId)', 'total empty sessionId rows').show()\n",
    "    \n",
    "    print('Number of rows without user ID: ' + str(raw_events_df.where(raw_events_df.userId =='').count()))"
   ]
  },
  {
   "cell_type": "code",
   "execution_count": 109,
   "metadata": {},
   "outputs": [
    {
     "name": "stdout",
     "output_type": "stream",
     "text": [
      "root\n",
      " |-- artist: string (nullable = true)\n",
      " |-- auth: string (nullable = true)\n",
      " |-- firstName: string (nullable = true)\n",
      " |-- gender: string (nullable = true)\n",
      " |-- itemInSession: long (nullable = true)\n",
      " |-- lastName: string (nullable = true)\n",
      " |-- length: double (nullable = true)\n",
      " |-- level: string (nullable = true)\n",
      " |-- location: string (nullable = true)\n",
      " |-- method: string (nullable = true)\n",
      " |-- page: string (nullable = true)\n",
      " |-- registration: long (nullable = true)\n",
      " |-- sessionId: long (nullable = true)\n",
      " |-- song: string (nullable = true)\n",
      " |-- status: long (nullable = true)\n",
      " |-- ts: long (nullable = true)\n",
      " |-- userAgent: string (nullable = true)\n",
      " |-- userId: string (nullable = true)\n",
      "\n",
      "Number of rows in raw dataset: 286500\n",
      "+-------+-----------------+\n",
      "|summary|        sessionId|\n",
      "+-------+-----------------+\n",
      "|  count|           286500|\n",
      "|   mean|1041.526554973822|\n",
      "| stddev|726.7762634630834|\n",
      "|    min|                1|\n",
      "|    max|             2474|\n",
      "+-------+-----------------+\n",
      "\n",
      "+-------+------------------+\n",
      "|summary|            userId|\n",
      "+-------+------------------+\n",
      "|  count|            286500|\n",
      "|   mean| 59682.02278593872|\n",
      "| stddev|109091.94999910519|\n",
      "|    min|                  |\n",
      "|    max|                99|\n",
      "+-------+------------------+\n",
      "\n",
      "Number of sessions before cleaning: 2354\n",
      "Number of users before cleaning: 226\n",
      "+------+\n",
      "|userId|\n",
      "+------+\n",
      "+------+\n",
      "\n",
      "+---------+\n",
      "|sessionId|\n",
      "+---------+\n",
      "+---------+\n",
      "\n",
      "+------+-----------------------+\n",
      "|userId|total empty userID rows|\n",
      "+------+-----------------------+\n",
      "|      |                   8346|\n",
      "+------+-----------------------+\n",
      "\n",
      "+---------+--------------------------+\n",
      "|sessionId|total empty sessionId rows|\n",
      "+---------+--------------------------+\n",
      "+---------+--------------------------+\n",
      "\n",
      "Number of rows without user ID: 8346\n"
     ]
    }
   ],
   "source": [
    "print_raw_data()"
   ]
  },
  {
   "cell_type": "markdown",
   "metadata": {},
   "source": [
    "### Remove empty userId"
   ]
  },
  {
   "cell_type": "code",
   "execution_count": 114,
   "metadata": {},
   "outputs": [],
   "source": [
    "# Removing rows with empty ID field -> in this case its userId\n",
    "clean_events_df = raw_events_df.where(raw_events_df.userId != '')"
   ]
  },
  {
   "cell_type": "code",
   "execution_count": 115,
   "metadata": {},
   "outputs": [
    {
     "name": "stdout",
     "output_type": "stream",
     "text": [
      "Number of events after cleaning: 278154\n",
      "Number of sessions after cleaning: 2312\n",
      "Number of users after cleaning: 225\n"
     ]
    }
   ],
   "source": [
    "print('Number of events after cleaning: ' + str(clean_events_df.count()))\n",
    "print('Number of sessions after cleaning: ' + str(clean_events_df.select('sessionId').distinct().count()))\n",
    "print('Number of users after cleaning: ' + str(clean_events_df.select('userId').distinct().count()))"
   ]
  },
  {
   "cell_type": "code",
   "execution_count": 116,
   "metadata": {},
   "outputs": [
    {
     "data": {
      "text/plain": [
       "False"
      ]
     },
     "execution_count": 116,
     "metadata": {},
     "output_type": "execute_result"
    }
   ],
   "source": [
    "# check for duplicate rows - looks like there are no duplicates in the dataset\n",
    "clean_events_df.count() > clean_events_df.dropDuplicates(clean_events_df.schema.names).count()"
   ]
  },
  {
   "cell_type": "markdown",
   "metadata": {},
   "source": [
    "### Format datetime columns"
   ]
  },
  {
   "cell_type": "code",
   "execution_count": 117,
   "metadata": {},
   "outputs": [],
   "source": [
    "# Finally before EDA, convert time into human readable format\n",
    "get_time = udf(lambda x: datetime.fromtimestamp(x / 1000.0).strftime(\"%Y-%m-%d %H:%M:%S\"))\n",
    "events = clean_events_df.withColumn('time', get_time(clean_events_df.ts))"
   ]
  },
  {
   "cell_type": "markdown",
   "metadata": {},
   "source": [
    "# Exploratory Data Analysis\n",
    "When you're working with the full dataset, perform EDA by loading a small subset of the data and doing basic manipulations within Spark. In this workspace, you are already provided a small subset of data you can explore.\n",
    "\n",
    "### Define Churn\n",
    "\n",
    "Once you've done some preliminary analysis, create a column `Churn` to use as the label for your model. I suggest using the `Cancellation Confirmation` events to define your churn, which happen for both paid and free users. As a bonus task, you can also look into the `Downgrade` events.\n",
    "\n",
    "### Explore Data\n",
    "Once you've defined churn, perform some exploratory data analysis to observe the behavior for users who stayed vs users who churned. You can start by exploring aggregates on these two groups of users, observing how much of a specific action they experienced per a certain time unit or number of songs played."
   ]
  },
  {
   "cell_type": "code",
   "execution_count": 118,
   "metadata": {},
   "outputs": [
    {
     "name": "stdout",
     "output_type": "stream",
     "text": [
      "root\n",
      " |-- artist: string (nullable = true)\n",
      " |-- auth: string (nullable = true)\n",
      " |-- firstName: string (nullable = true)\n",
      " |-- gender: string (nullable = true)\n",
      " |-- itemInSession: long (nullable = true)\n",
      " |-- lastName: string (nullable = true)\n",
      " |-- length: double (nullable = true)\n",
      " |-- level: string (nullable = true)\n",
      " |-- location: string (nullable = true)\n",
      " |-- method: string (nullable = true)\n",
      " |-- page: string (nullable = true)\n",
      " |-- registration: long (nullable = true)\n",
      " |-- sessionId: long (nullable = true)\n",
      " |-- song: string (nullable = true)\n",
      " |-- status: long (nullable = true)\n",
      " |-- ts: long (nullable = true)\n",
      " |-- userAgent: string (nullable = true)\n",
      " |-- userId: string (nullable = true)\n",
      " |-- time: string (nullable = true)\n",
      "\n"
     ]
    }
   ],
   "source": [
    "events.printSchema()"
   ]
  },
  {
   "cell_type": "code",
   "execution_count": 211,
   "metadata": {},
   "outputs": [
    {
     "data": {
      "text/plain": [
       "<AxesSubplot:xlabel='page'>"
      ]
     },
     "execution_count": 211,
     "metadata": {},
     "output_type": "execute_result"
    },
    {
     "data": {
      "image/png": "[encoded data removed]",
      "text/plain": [
       "<Figure size 432x288 with 1 Axes>"
      ]
     },
     "metadata": {},
     "output_type": "display_data"
    }
   ],
   "source": [
    "# unique pages and their counts\n",
    "events.groupBy(\"page\").count().orderBy('count').toPandas().plot(x=\"page\", y=\"count\", kind='bar', rot=75)"
   ]
  },
  {
   "cell_type": "markdown",
   "metadata": {},
   "source": [
    "#### 1. Auth"
   ]
  },
  {
   "cell_type": "code",
   "execution_count": 120,
   "metadata": {
    "scrolled": true
   },
   "outputs": [
    {
     "name": "stdout",
     "output_type": "stream",
     "text": [
      "+---------+------+\n",
      "|     auth| count|\n",
      "+---------+------+\n",
      "|Cancelled|    52|\n",
      "|Logged In|278102|\n",
      "+---------+------+\n",
      "\n"
     ]
    }
   ],
   "source": [
    "# unique auth and their counts\n",
    "events.groupBy('auth').count().orderBy('count').show()"
   ]
  },
  {
   "cell_type": "code",
   "execution_count": 121,
   "metadata": {},
   "outputs": [
    {
     "name": "stdout",
     "output_type": "stream",
     "text": [
      "+------+---------+---------+------+-------------+--------+------+-----+--------------------+------+--------------------+-------------+---------+----+------+-------------+--------------------+------+-------------------+\n",
      "|artist|     auth|firstName|gender|itemInSession|lastName|length|level|            location|method|                page| registration|sessionId|song|status|           ts|           userAgent|userId|               time|\n",
      "+------+---------+---------+------+-------------+--------+------+-----+--------------------+------+--------------------+-------------+---------+----+------+-------------+--------------------+------+-------------------+\n",
      "|  null|Cancelled|   Adriel|     M|          104| Mendoza|  null| paid|  Kansas City, MO-KS|   GET|Cancellation Conf...|1535623466000|      514|null|   200|1538943990000|\"Mozilla/5.0 (Mac...|    18|2018-10-07 21:26:30|\n",
      "|  null|Cancelled|    Diego|     M|           56|   Mckee|  null| paid|Phoenix-Mesa-Scot...|   GET|Cancellation Conf...|1537167593000|      540|null|   200|1539033046000|\"Mozilla/5.0 (iPh...|    32|2018-10-08 22:10:46|\n",
      "|  null|Cancelled|    Mason|     M|           10|    Hart|  null| free|  Corpus Christi, TX|   GET|Cancellation Conf...|1533157139000|      174|null|   200|1539318918000|\"Mozilla/5.0 (Mac...|   125|2018-10-12 05:35:18|\n",
      "|  null|Cancelled|Alexander|     M|          332|  Garcia|  null| paid|Indianapolis-Carm...|   GET|Cancellation Conf...|1536817381000|      508|null|   200|1539375441000|Mozilla/5.0 (Wind...|   105|2018-10-12 21:17:21|\n",
      "|  null|Cancelled|    Kayla|     F|          273| Johnson|  null| paid|Philadelphia-Camd...|   GET|Cancellation Conf...|1538333829000|      797|null|   200|1539465584000|Mozilla/5.0 (Wind...|    17|2018-10-13 22:19:44|\n",
      "+------+---------+---------+------+-------------+--------+------+-----+--------------------+------+--------------------+-------------+---------+----+------+-------------+--------------------+------+-------------------+\n",
      "only showing top 5 rows\n",
      "\n"
     ]
    }
   ],
   "source": [
    "# taking a look at what 'Cancelled' auth events look like as its the same number as 'Cancellation Confirm' page events\n",
    "events.filter(events.auth == 'Cancelled').show(5)"
   ]
  },
  {
   "cell_type": "code",
   "execution_count": 122,
   "metadata": {},
   "outputs": [
    {
     "data": {
      "text/plain": [
       "52"
      ]
     },
     "execution_count": 122,
     "metadata": {},
     "output_type": "execute_result"
    }
   ],
   "source": [
    "events.filter(events.auth == 'Cancelled').groupBy(['page', 'userId']).count().count() # 52 cancellation events"
   ]
  },
  {
   "cell_type": "markdown",
   "metadata": {},
   "source": [
    "### Get churned users"
   ]
  },
  {
   "cell_type": "code",
   "execution_count": 123,
   "metadata": {},
   "outputs": [],
   "source": [
    "# Cancelled value in auth column seems to appear with cancellation confirmation\n",
    "# 2 ways I can define churn\n",
    "# 1) I can create a lambda function to flag cancellation events with 1 \n",
    "#    then apply max window over user to get churned users OR\n",
    "# 2) use the dataframe below to left join 'events' to this 'churned_users' \n",
    "#    and keep the count value as churned column\n",
    "\n",
    "# grouping by page or not yeilds the same set of userIds\n",
    "churned_users = events.filter(events.auth == 'Cancelled').groupBy(['page', 'userId']).count()"
   ]
  },
  {
   "cell_type": "code",
   "execution_count": 201,
   "metadata": {},
   "outputs": [],
   "source": [
    "get_churned = udf(lambda x: True if 'Cancellation Confirmation' in x else False)"
   ]
  },
  {
   "cell_type": "code",
   "execution_count": 202,
   "metadata": {},
   "outputs": [],
   "source": [
    "churned_users2 = events.groupBy('userId').agg((f.collect_set('page')).alias('pages'))\n",
    "churned_users2 = churned_users2.withColumn('churned', get_churned(churned_users2.pages))"
   ]
  },
  {
   "cell_type": "code",
   "execution_count": 203,
   "metadata": {},
   "outputs": [
    {
     "name": "stdout",
     "output_type": "stream",
     "text": [
      "+------+--------------------+-------+\n",
      "|userId|               pages|churned|\n",
      "+------+--------------------+-------+\n",
      "|100010|[Add Friend, Thum...|  false|\n",
      "|200002|[Thumbs Down, Add...|  false|\n",
      "|   125|[Cancellation Con...|   true|\n",
      "|    51|[Thumbs Down, Add...|   true|\n",
      "|   124|[Thumbs Down, Add...|  false|\n",
      "|     7|[Add Friend, Thum...|  false|\n",
      "|    54|[Submit Downgrade...|   true|\n",
      "|    15|[Thumbs Down, Add...|  false|\n",
      "|   155|[Thumbs Down, Add...|  false|\n",
      "|   132|[Thumbs Down, Add...|  false|\n",
      "|   154|[Add Friend, Add ...|  false|\n",
      "|100014|[Add Friend, Thum...|   true|\n",
      "|   101|[Thumbs Down, Add...|   true|\n",
      "|    11|[Submit Downgrade...|  false|\n",
      "|   138|[Thumbs Down, Add...|  false|\n",
      "|300017|[Thumbs Down, Add...|  false|\n",
      "|    29|[Thumbs Down, Add...|   true|\n",
      "|    69|[Thumbs Down, Add...|  false|\n",
      "|100021|[Add Friend, Thum...|   true|\n",
      "|    42|[Thumbs Down, Add...|  false|\n",
      "+------+--------------------+-------+\n",
      "only showing top 20 rows\n",
      "\n"
     ]
    }
   ],
   "source": [
    "churned_users2.show()"
   ]
  },
  {
   "cell_type": "code",
   "execution_count": 204,
   "metadata": {},
   "outputs": [
    {
     "data": {
      "text/html": [
       "<div>\n",
       "<style scoped>\n",
       "    .dataframe tbody tr th:only-of-type {\n",
       "        vertical-align: middle;\n",
       "    }\n",
       "\n",
       "    .dataframe tbody tr th {\n",
       "        vertical-align: top;\n",
       "    }\n",
       "\n",
       "    .dataframe thead th {\n",
       "        text-align: right;\n",
       "    }\n",
       "</style>\n",
       "<table border=\"1\" class=\"dataframe\">\n",
       "  <thead>\n",
       "    <tr style=\"text-align: right;\">\n",
       "      <th></th>\n",
       "      <th>churned</th>\n",
       "      <th>count</th>\n",
       "    </tr>\n",
       "  </thead>\n",
       "  <tbody>\n",
       "    <tr>\n",
       "      <th>0</th>\n",
       "      <td>false</td>\n",
       "      <td>173</td>\n",
       "    </tr>\n",
       "    <tr>\n",
       "      <th>1</th>\n",
       "      <td>true</td>\n",
       "      <td>52</td>\n",
       "    </tr>\n",
       "  </tbody>\n",
       "</table>\n",
       "</div>"
      ],
      "text/plain": [
       "  churned  count\n",
       "0   false    173\n",
       "1    true     52"
      ]
     },
     "execution_count": 204,
     "metadata": {},
     "output_type": "execute_result"
    }
   ],
   "source": [
    "churned_users2.groupBy('churned').count().toPandas()"
   ]
  },
  {
   "cell_type": "markdown",
   "metadata": {},
   "source": [
    "##### Define Churnplot"
   ]
  },
  {
   "cell_type": "code",
   "execution_count": 124,
   "metadata": {},
   "outputs": [],
   "source": [
    "# using the first method, we first left join churned users as 'b' with events as 'a' on userId column\n",
    "# we then select all columns from the left table, i.e. events, and only the count column from right table\n",
    "# finally we rename count as churned and replace the unmatched rows with 0s into 'events_w_churn'\n",
    "events_w_churn = events.alias('a').join(churned_users.alias('b'), col('a.userId') == col('b.userId'),  how='left')\\\n",
    ".select([col('a.'+xx) for xx in events.columns] + [col('b.count')])\\\n",
    ".withColumnRenamed('count', 'churned').fillna({'churned': 0})"
   ]
  },
  {
   "cell_type": "code",
   "execution_count": 26,
   "metadata": {},
   "outputs": [],
   "source": [
    "# During EDA, I wanted to go column by column before defining churn \n",
    "# but the \"auth column\" and its unique values led me to define churn\n",
    "# continuing the exploration we can now look at each column and\n",
    "# its impact on churn."
   ]
  },
  {
   "cell_type": "markdown",
   "metadata": {},
   "source": [
    "#### 2. Registration and times"
   ]
  },
  {
   "cell_type": "code",
   "execution_count": 27,
   "metadata": {},
   "outputs": [],
   "source": [
    "# Now that we have defined churn and before exploring more columns\n",
    "# we will now look at what duration of data do we have\n",
    "#    close together, wide spread, registrations, user lengths etc..."
   ]
  },
  {
   "cell_type": "code",
   "execution_count": 125,
   "metadata": {},
   "outputs": [],
   "source": [
    "events_w_churn = events_w_churn.withColumn('reg_time', get_time('registration'))"
   ]
  },
  {
   "cell_type": "code",
   "execution_count": 126,
   "metadata": {},
   "outputs": [
    {
     "name": "stdout",
     "output_type": "stream",
     "text": [
      "+----------+----------+\n",
      "| min(date)| max(date)|\n",
      "+----------+----------+\n",
      "|2018-03-18|2018-11-26|\n",
      "+----------+----------+\n",
      "\n"
     ]
    }
   ],
   "source": [
    "# All our registrations range between 3rd March 2018 to 26th Nov 2018\n",
    "events_w_churn.groupBy(to_date('reg_time').alias('date')).count().sort('count').select(min(\"date\"), max(\"date\")).show(1)"
   ]
  },
  {
   "cell_type": "code",
   "execution_count": 127,
   "metadata": {
    "scrolled": true
   },
   "outputs": [
    {
     "name": "stdout",
     "output_type": "stream",
     "text": [
      "+----------+----------+\n",
      "| min(date)| max(date)|\n",
      "+----------+----------+\n",
      "|2018-10-01|2018-12-03|\n",
      "+----------+----------+\n",
      "\n"
     ]
    }
   ],
   "source": [
    "# All our events range between 1st Oct 2018 to 3rd Dec 2018\n",
    "events_w_churn.groupBy(to_date('time').alias('date')).count().sort('count').select(min(\"date\"), max(\"date\")).show(1)"
   ]
  },
  {
   "cell_type": "code",
   "execution_count": 128,
   "metadata": {},
   "outputs": [],
   "source": [
    "# Save the data for tableau\n",
    "# events_w_churn.toPandas().to_csv('clean_events.csv')"
   ]
  },
  {
   "cell_type": "code",
   "execution_count": 129,
   "metadata": {},
   "outputs": [],
   "source": [
    "daily_events_pd = events_w_churn.groupBy(to_date('time').alias('date')).count().sort('date').toPandas()"
   ]
  },
  {
   "cell_type": "code",
   "execution_count": 130,
   "metadata": {},
   "outputs": [
    {
     "data": {
      "text/plain": [
       "[Text(0, 0, '2018-10-01'),\n",
       " Text(1, 0, '2018-10-02'),\n",
       " Text(2, 0, '2018-10-03'),\n",
       " Text(3, 0, '2018-10-04'),\n",
       " Text(4, 0, '2018-10-05'),\n",
       " Text(5, 0, '2018-10-06'),\n",
       " Text(6, 0, '2018-10-07'),\n",
       " Text(7, 0, '2018-10-08'),\n",
       " Text(8, 0, '2018-10-09'),\n",
       " Text(9, 0, '2018-10-10'),\n",
       " Text(10, 0, '2018-10-11'),\n",
       " Text(11, 0, '2018-10-12'),\n",
       " Text(12, 0, '2018-10-13'),\n",
       " Text(13, 0, '2018-10-14'),\n",
       " Text(14, 0, '2018-10-15'),\n",
       " Text(15, 0, '2018-10-16'),\n",
       " Text(16, 0, '2018-10-17'),\n",
       " Text(17, 0, '2018-10-18'),\n",
       " Text(18, 0, '2018-10-19'),\n",
       " Text(19, 0, '2018-10-20'),\n",
       " Text(20, 0, '2018-10-21'),\n",
       " Text(21, 0, '2018-10-22'),\n",
       " Text(22, 0, '2018-10-23'),\n",
       " Text(23, 0, '2018-10-24'),\n",
       " Text(24, 0, '2018-10-25'),\n",
       " Text(25, 0, '2018-10-26'),\n",
       " Text(26, 0, '2018-10-27'),\n",
       " Text(27, 0, '2018-10-28'),\n",
       " Text(28, 0, '2018-10-29'),\n",
       " Text(29, 0, '2018-10-30'),\n",
       " Text(30, 0, '2018-10-31'),\n",
       " Text(31, 0, '2018-11-01'),\n",
       " Text(32, 0, '2018-11-02'),\n",
       " Text(33, 0, '2018-11-03'),\n",
       " Text(34, 0, '2018-11-04'),\n",
       " Text(35, 0, '2018-11-05'),\n",
       " Text(36, 0, '2018-11-06'),\n",
       " Text(37, 0, '2018-11-07'),\n",
       " Text(38, 0, '2018-11-08'),\n",
       " Text(39, 0, '2018-11-09'),\n",
       " Text(40, 0, '2018-11-10'),\n",
       " Text(41, 0, '2018-11-11'),\n",
       " Text(42, 0, '2018-11-12'),\n",
       " Text(43, 0, '2018-11-13'),\n",
       " Text(44, 0, '2018-11-14'),\n",
       " Text(45, 0, '2018-11-15'),\n",
       " Text(46, 0, '2018-11-16'),\n",
       " Text(47, 0, '2018-11-17'),\n",
       " Text(48, 0, '2018-11-18'),\n",
       " Text(49, 0, '2018-11-19'),\n",
       " Text(50, 0, '2018-11-20'),\n",
       " Text(51, 0, '2018-11-21'),\n",
       " Text(52, 0, '2018-11-22'),\n",
       " Text(53, 0, '2018-11-23'),\n",
       " Text(54, 0, '2018-11-24'),\n",
       " Text(55, 0, '2018-11-25'),\n",
       " Text(56, 0, '2018-11-26'),\n",
       " Text(57, 0, '2018-11-27'),\n",
       " Text(58, 0, '2018-11-28'),\n",
       " Text(59, 0, '2018-11-29'),\n",
       " Text(60, 0, '2018-11-30'),\n",
       " Text(61, 0, '2018-12-01'),\n",
       " Text(62, 0, '2018-12-03')]"
      ]
     },
     "execution_count": 130,
     "metadata": {},
     "output_type": "execute_result"
    },
    {
     "data": {
      "image/png": "[encoded data removed]",
      "text/plain": [
       "<Figure size 1224x360 with 1 Axes>"
      ]
     },
     "metadata": {},
     "output_type": "display_data"
    }
   ],
   "source": [
    "ax = daily_events_pd.plot(kind='bar',figsize=(17,5), title='Daily Events')\n",
    "ax.set_xticklabels(daily_events_pd['date'].tolist())"
   ]
  },
  {
   "cell_type": "markdown",
   "metadata": {},
   "source": [
    "##### Create days since registration and total days on sparkify columns"
   ]
  },
  {
   "cell_type": "code",
   "execution_count": 131,
   "metadata": {},
   "outputs": [],
   "source": [
    "# In addition to churned, lets add the lifetime column which will be max event time - reg time for each user\n",
    "\n",
    "# add days_since_registration column for each event\n",
    "events_w_churn = events_w_churn.withColumn('days_since_registration',f.round((events_w_churn.ts-events_w_churn.registration)/1000/3600/24))\n",
    "\n",
    "# create a window over each user\n",
    "user_window = Window.partitionBy(\"userId\")\n",
    "\n",
    "# create a column to choose days_since_registration over each window \n",
    "events_w_churn = events_w_churn.withColumn('total_days_on_sparkify', f.round(max(events_w_churn.days_since_registration).over(user_window), 0))"
   ]
  },
  {
   "cell_type": "code",
   "execution_count": 132,
   "metadata": {},
   "outputs": [
    {
     "name": "stdout",
     "output_type": "stream",
     "text": [
      "+-------+---------------------------+\n",
      "|churned|avg(total_days_on_sparkify)|\n",
      "+-------+---------------------------+\n",
      "|      0|          93.08523725834797|\n",
      "|      1|          67.61505884450784|\n",
      "+-------+---------------------------+\n",
      "\n"
     ]
    }
   ],
   "source": [
    "# We can see that the average time spent on the service for churned users is considerable less\n",
    "events_w_churn \\\n",
    "    .select('churned','total_days_on_sparkify') \\\n",
    "    .groupBy('churned') \\\n",
    "    .agg({'total_days_on_sparkify':'avg'}).show()"
   ]
  },
  {
   "cell_type": "markdown",
   "metadata": {},
   "source": [
    "#### gender"
   ]
  },
  {
   "cell_type": "code",
   "execution_count": 212,
   "metadata": {
    "scrolled": true
   },
   "outputs": [
    {
     "data": {
      "text/plain": [
       "<AxesSubplot:xlabel='gender', ylabel='count'>"
      ]
     },
     "execution_count": 212,
     "metadata": {},
     "output_type": "execute_result"
    },
    {
     "data": {
      "image/png": "[encoded data removed]",
      "text/plain": [
       "<Figure size 432x288 with 1 Axes>"
      ]
     },
     "metadata": {},
     "output_type": "display_data"
    }
   ],
   "source": [
    "sns.barplot(x='gender',y='count',data=events_w_churn.groupBy('gender').agg(countDistinct('userId').alias('count')).toPandas())"
   ]
  },
  {
   "cell_type": "code",
   "execution_count": 134,
   "metadata": {},
   "outputs": [
    {
     "data": {
      "text/plain": [
       "<AxesSubplot:xlabel='churned', ylabel='count'>"
      ]
     },
     "execution_count": 134,
     "metadata": {},
     "output_type": "execute_result"
    },
    {
     "data": {
      "image/png": "[encoded data removed]",
      "text/plain": [
       "<Figure size 432x288 with 1 Axes>"
      ]
     },
     "metadata": {},
     "output_type": "display_data"
    }
   ],
   "source": [
    "sns.barplot(x='churned', y='count', data = events_w_churn.select('userId', 'churned').groupBy('churned').agg(countDistinct('userId').alias('count')).toPandas())"
   ]
  },
  {
   "cell_type": "code",
   "execution_count": 135,
   "metadata": {},
   "outputs": [
    {
     "data": {
      "text/plain": [
       "<AxesSubplot:xlabel='churned', ylabel='count'>"
      ]
     },
     "execution_count": 135,
     "metadata": {},
     "output_type": "execute_result"
    },
    {
     "data": {
      "image/png": "[encoded data removed]",
      "text/plain": [
       "<Figure size 432x288 with 1 Axes>"
      ]
     },
     "metadata": {},
     "output_type": "display_data"
    }
   ],
   "source": [
    "sns.barplot(x='churned', y='count', hue='gender', data=events_w_churn.select('userId', 'churned', 'gender').groupBy('gender', 'churned').agg(countDistinct('userId').alias('count')).toPandas())"
   ]
  },
  {
   "cell_type": "markdown",
   "metadata": {},
   "source": [
    "# Feature Engineering\n",
    "Once you've familiarized yourself with the data, build out the features you find promising to train your model on. To work with the full dataset, you can follow the following steps.\n",
    "- Write a script to extract the necessary features from the smaller subset of data\n",
    "- Ensure that your script is scalable, using the best practices discussed in Lesson 3\n",
    "- Try your script on the full data set, debugging your script if necessary\n",
    "\n",
    "If you are working in the classroom workspace, you can just extract features based on the small subset of data contained here. Be sure to transfer over this work to the larger dataset when you work on your Spark cluster."
   ]
  },
  {
   "cell_type": "code",
   "execution_count": 136,
   "metadata": {},
   "outputs": [
    {
     "name": "stdout",
     "output_type": "stream",
     "text": [
      "root\n",
      " |-- artist: string (nullable = true)\n",
      " |-- auth: string (nullable = true)\n",
      " |-- firstName: string (nullable = true)\n",
      " |-- gender: string (nullable = true)\n",
      " |-- itemInSession: long (nullable = true)\n",
      " |-- lastName: string (nullable = true)\n",
      " |-- length: double (nullable = true)\n",
      " |-- level: string (nullable = true)\n",
      " |-- location: string (nullable = true)\n",
      " |-- method: string (nullable = true)\n",
      " |-- page: string (nullable = true)\n",
      " |-- registration: long (nullable = true)\n",
      " |-- sessionId: long (nullable = true)\n",
      " |-- song: string (nullable = true)\n",
      " |-- status: long (nullable = true)\n",
      " |-- ts: long (nullable = true)\n",
      " |-- userAgent: string (nullable = true)\n",
      " |-- userId: string (nullable = true)\n",
      " |-- time: string (nullable = true)\n",
      " |-- churned: long (nullable = false)\n",
      " |-- reg_time: string (nullable = true)\n",
      " |-- days_since_registration: double (nullable = true)\n",
      " |-- total_days_on_sparkify: double (nullable = true)\n",
      "\n"
     ]
    }
   ],
   "source": [
    "events_w_churn.printSchema()"
   ]
  },
  {
   "cell_type": "code",
   "execution_count": 137,
   "metadata": {},
   "outputs": [
    {
     "name": "stdout",
     "output_type": "stream",
     "text": [
      "+--------------------+------+\n",
      "|                page| count|\n",
      "+--------------------+------+\n",
      "|Cancellation Conf...|    52|\n",
      "|              Cancel|    52|\n",
      "|    Submit Downgrade|    63|\n",
      "|      Submit Upgrade|   159|\n",
      "|               Error|   252|\n",
      "|       Save Settings|   310|\n",
      "|               About|   495|\n",
      "|             Upgrade|   499|\n",
      "|                Help|  1454|\n",
      "|            Settings|  1514|\n",
      "|           Downgrade|  2055|\n",
      "|         Thumbs Down|  2546|\n",
      "|              Logout|  3226|\n",
      "|         Roll Advert|  3933|\n",
      "|          Add Friend|  4277|\n",
      "|     Add to Playlist|  6526|\n",
      "|                Home| 10082|\n",
      "|           Thumbs Up| 12551|\n",
      "|            NextSong|228108|\n",
      "+--------------------+------+\n",
      "\n"
     ]
    }
   ],
   "source": [
    "events.groupBy(\"page\").count().orderBy('count').show()"
   ]
  },
  {
   "cell_type": "code",
   "execution_count": 138,
   "metadata": {},
   "outputs": [],
   "source": [
    "# Feature generation: number of unique pages visited \n",
    "\n",
    "events_w_features = events_w_churn.withColumn('total_unique_pages_visited', f.size(f.collect_set('page').over(user_window)))\\\n",
    "                            .withColumn('total_events', f.count('ts').over(user_window)) \\\n",
    "                            .withColumn('total_artists_heard', f.size(f.collect_set('artist').over(user_window))) \\\n",
    "                            .withColumn('total_unique_songs_heard', f.size(f.collect_set('song').over(user_window))) \\\n",
    "                            .withColumn('is_next_song', f.when(events_w_churn.page=='NextSong', 1).otherwise(0))\\\n",
    "                            .withColumn('is_thumbs_up', f.when(events_w_churn.page=='Thumbs Up', 1).otherwise(0)) \\\n",
    "                            .withColumn('is_thumbs_down', f.when(events_w_churn.page=='Thumbs Down', 1).otherwise(0)) \\\n",
    "                            .withColumn('is_settings', f.when(events_w_churn.page=='Settings', 1).otherwise(0)) \\\n",
    "                            .withColumn('is_add_friend', f.when(events_w_churn.page=='Add Friend', 1).otherwise(0))\\\n",
    "                            .withColumn('is_add_to_playlist', f.when(events_w_churn.page=='Add to Playlist',1).otherwise(0))\\\n",
    "                            .withColumn('is_about', f.when(events_w_churn.page=='About',1).otherwise(0))\\\n",
    "                            .withColumn('is_help', f.when(events_w_churn.page=='Help',1).otherwise(0))\\\n",
    "                            .withColumn('is_error', f.when(events_w_churn.page=='Error',1).otherwise(0))\n",
    "\n",
    "# add average number of songs per session for each user\n"
   ]
  },
  {
   "cell_type": "code",
   "execution_count": 139,
   "metadata": {},
   "outputs": [
    {
     "name": "stdout",
     "output_type": "stream",
     "text": [
      "root\n",
      " |-- artist: string (nullable = true)\n",
      " |-- auth: string (nullable = true)\n",
      " |-- firstName: string (nullable = true)\n",
      " |-- gender: string (nullable = true)\n",
      " |-- itemInSession: long (nullable = true)\n",
      " |-- lastName: string (nullable = true)\n",
      " |-- length: double (nullable = true)\n",
      " |-- level: string (nullable = true)\n",
      " |-- location: string (nullable = true)\n",
      " |-- method: string (nullable = true)\n",
      " |-- page: string (nullable = true)\n",
      " |-- registration: long (nullable = true)\n",
      " |-- sessionId: long (nullable = true)\n",
      " |-- song: string (nullable = true)\n",
      " |-- status: long (nullable = true)\n",
      " |-- ts: long (nullable = true)\n",
      " |-- userAgent: string (nullable = true)\n",
      " |-- userId: string (nullable = true)\n",
      " |-- time: string (nullable = true)\n",
      " |-- churned: long (nullable = false)\n",
      " |-- reg_time: string (nullable = true)\n",
      " |-- days_since_registration: double (nullable = true)\n",
      " |-- total_days_on_sparkify: double (nullable = true)\n",
      " |-- total_unique_pages_visited: integer (nullable = false)\n",
      " |-- total_events: long (nullable = false)\n",
      " |-- total_artists_heard: integer (nullable = false)\n",
      " |-- total_unique_songs_heard: integer (nullable = false)\n",
      " |-- is_next_song: integer (nullable = false)\n",
      " |-- is_thumbs_up: integer (nullable = false)\n",
      " |-- is_thumbs_down: integer (nullable = false)\n",
      " |-- is_settings: integer (nullable = false)\n",
      " |-- is_add_friend: integer (nullable = false)\n",
      " |-- is_add_to_playlist: integer (nullable = false)\n",
      " |-- is_about: integer (nullable = false)\n",
      " |-- is_help: integer (nullable = false)\n",
      " |-- is_error: integer (nullable = false)\n",
      "\n"
     ]
    }
   ],
   "source": [
    "events_w_features.printSchema()"
   ]
  },
  {
   "cell_type": "code",
   "execution_count": 140,
   "metadata": {},
   "outputs": [],
   "source": [
    "# drop extra columns that are no longer needed or \n",
    "# will not be included in this modelling iteration\n",
    "\n",
    "drop_list = ['artist', 'auth', 'firstName', \n",
    "            'itemInSession', 'lastName', 'location',\n",
    "            'method', 'registration', 'song',\n",
    "            'status', 'ts', 'userAgent']\n",
    "\n",
    "events_w_features = events_w_features.drop(*drop_list)"
   ]
  },
  {
   "cell_type": "code",
   "execution_count": 141,
   "metadata": {
    "scrolled": true
   },
   "outputs": [],
   "source": [
    "events_w_features = events_w_features.groupBy(\"userID\").agg(\n",
    "    f.first(\"churned\").alias(\"label\"),\n",
    "    f.first(\"gender\").alias(\"gender\"),\n",
    "    f.avg(\"length\").alias(\"avg_length\"),\n",
    "    f.min(\"length\").alias(\"min_length\"),\n",
    "    f.max(\"length\").alias(\"max_length\"),\n",
    "    f.first(\"level\").alias(\"subscription_level\"),\n",
    "    f.min(\"time\").alias(\"first_event_time\"),\n",
    "    f.max(\"time\").alias(\"last_event_time\"),\n",
    "    f.first(\"reg_time\").alias(\"reg_time\"),\n",
    "    f.first(\"days_since_registration\").alias(\"days_since_registration\"),  \n",
    "    f.first(\"total_days_on_sparkify\").alias(\"total_days_on_sparkify\"),\n",
    "    f.first(\"total_unique_pages_visited\").alias(\"total_unique_pages_visited\"),\n",
    "    f.first(\"total_events\").alias(\"total_events\"),\n",
    "    f.first(\"total_artists_heard\").alias(\"total_artists_heard\"),\n",
    "    f.first(\"total_unique_songs_heard\").alias(\"total_unique_songs_heard\"),\n",
    "    f.sum(\"is_next_song\").alias(\"total_next_song_events\"),\n",
    "    f.sum(\"is_thumbs_up\").alias(\"total_thumbs_up_events\"),\n",
    "    f.sum(\"is_thumbs_down\").alias(\"total_thumbs_down_events\"),\n",
    "    f.sum(\"is_settings\").alias(\"total_settings_events\"),\n",
    "    f.sum(\"is_add_friend\").alias(\"total_add_friend_events\"),\n",
    "    f.sum(\"is_add_to_playlist\").alias(\"total_add_to_playlist_events\"),\n",
    "    f.sum(\"is_about\").alias(\"total_about_events\"),\n",
    "    f.sum(\"is_error\").alias(\"total_error_events\"),\n",
    "    f.sum(\"is_help\").alias(\"total_help_events\")\n",
    ")"
   ]
  },
  {
   "cell_type": "code",
   "execution_count": 142,
   "metadata": {},
   "outputs": [],
   "source": [
    "df = events_w_features\n",
    "df = df.withColumn('days_bw_first_last_event', f.datediff('last_event_time', 'first_event_time'))\\\n",
    "        .drop('last_event_time')\\\n",
    "        .drop('first_event_time')\\\n",
    "        .drop('reg_time')"
   ]
  },
  {
   "cell_type": "markdown",
   "metadata": {},
   "source": [
    "# Modeling\n",
    "Split the full dataset into train, test, and validation sets. Test out several of the machine learning methods you learned. Evaluate the accuracy of the various models, tuning parameters as necessary. Determine your winning model based on test accuracy and report results on the validation set. Since the churned users are a fairly small subset, I suggest using F1 score as the metric to optimize."
   ]
  },
  {
   "cell_type": "code",
   "execution_count": 214,
   "metadata": {},
   "outputs": [
    {
     "name": "stdout",
     "output_type": "stream",
     "text": [
      "root\n",
      " |-- userID: string (nullable = true)\n",
      " |-- label: long (nullable = true)\n",
      " |-- gender: string (nullable = true)\n",
      " |-- avg_length: double (nullable = true)\n",
      " |-- min_length: double (nullable = true)\n",
      " |-- max_length: double (nullable = true)\n",
      " |-- subscription_level: string (nullable = true)\n",
      " |-- days_since_registration: double (nullable = true)\n",
      " |-- total_days_on_sparkify: double (nullable = true)\n",
      " |-- total_unique_pages_visited: integer (nullable = true)\n",
      " |-- total_events: long (nullable = true)\n",
      " |-- total_artists_heard: integer (nullable = true)\n",
      " |-- total_unique_songs_heard: integer (nullable = true)\n",
      " |-- total_next_song_events: long (nullable = true)\n",
      " |-- total_thumbs_up_events: long (nullable = true)\n",
      " |-- total_thumbs_down_events: long (nullable = true)\n",
      " |-- total_settings_events: long (nullable = true)\n",
      " |-- total_add_friend_events: long (nullable = true)\n",
      " |-- total_add_to_playlist_events: long (nullable = true)\n",
      " |-- total_about_events: long (nullable = true)\n",
      " |-- total_error_events: long (nullable = true)\n",
      " |-- total_help_events: long (nullable = true)\n",
      " |-- days_bw_first_last_event: integer (nullable = true)\n",
      "\n"
     ]
    }
   ],
   "source": [
    "df.printSchema()"
   ]
  },
  {
   "cell_type": "code",
   "execution_count": 215,
   "metadata": {},
   "outputs": [],
   "source": [
    "categorical_features = ['gender', 'subscription_level']\n",
    "numerical_features = set(df.columns)-set(categorical_features)"
   ]
  },
  {
   "cell_type": "markdown",
   "metadata": {},
   "source": [
    "### Data prep pipline"
   ]
  },
  {
   "cell_type": "code",
   "execution_count": 229,
   "metadata": {},
   "outputs": [],
   "source": [
    "# convert categorical feature to feature indexes\n",
    "gender_indexer = StringIndexer(inputCol='gender', outputCol='gender_index')\n",
    "subcription_indexer = StringIndexer(inputCol='subscription_level', outputCol='subscription_level_index')\n",
    "assembler = VectorAssembler(inputCols= input_cols, outputCol=\"feature_vector\")\n",
    "scaler = StandardScaler(inputCol=\"feature_vector\", outputCol=\"scaled_feature_vector\")\n",
    "\n",
    "data_prep_pipline = Pipeline(stages=[gender_indexer, subcription_indexer, assembler, scaler])"
   ]
  },
  {
   "cell_type": "code",
   "execution_count": 230,
   "metadata": {},
   "outputs": [],
   "source": [
    "input_cols = ['avg_length',\n",
    " 'min_length',\n",
    " 'max_length',\n",
    " 'days_since_registration',\n",
    " 'total_days_on_sparkify',\n",
    " 'total_unique_pages_visited',\n",
    " 'total_events',\n",
    " 'total_artists_heard',\n",
    " 'total_unique_songs_heard',\n",
    " 'total_next_song_events',\n",
    " 'total_thumbs_up_events',\n",
    " 'total_thumbs_down_events',\n",
    " 'total_settings_events',\n",
    " 'total_add_friend_events',\n",
    " 'total_add_to_playlist_events',\n",
    " 'total_about_events',\n",
    " 'total_error_events',\n",
    " 'total_help_events',\n",
    " 'days_bw_first_last_event', \n",
    " 'gender_index',\n",
    " 'subscription_level_index',\n",
    " 'feature_vector',\n",
    " 'userID'\n",
    "] + categorical_features\n",
    "\n",
    "scaled_indexed_df = data_prep_pipline.fit(df).transform(df).drop(*input_cols)"
   ]
  },
  {
   "cell_type": "code",
   "execution_count": 231,
   "metadata": {},
   "outputs": [
    {
     "name": "stdout",
     "output_type": "stream",
     "text": [
      "root\n",
      " |-- label: long (nullable = true)\n",
      " |-- scaled_feature_vector: vector (nullable = true)\n",
      "\n"
     ]
    }
   ],
   "source": [
    "scaled_indexed_df.printSchema()"
   ]
  },
  {
   "cell_type": "markdown",
   "metadata": {},
   "source": [
    "### Train model"
   ]
  },
  {
   "cell_type": "code",
   "execution_count": 236,
   "metadata": {},
   "outputs": [],
   "source": [
    "scores = []"
   ]
  },
  {
   "cell_type": "code",
   "execution_count": 240,
   "metadata": {},
   "outputs": [],
   "source": [
    "# split data into train and test\n",
    "train, test = scaled_indexed_df.randomSplit([0.8,0.2], seed=6)\n",
    "\n",
    "# create an evaluator for measring the f1 score for each model\n",
    "evaluator = MulticlassClassificationEvaluator(metricName=\"f1\")"
   ]
  },
  {
   "cell_type": "markdown",
   "metadata": {},
   "source": [
    "#### Logistic Regression"
   ]
  },
  {
   "cell_type": "code",
   "execution_count": 151,
   "metadata": {
    "collapsed": true,
    "jupyter": {
     "outputs_hidden": true,
     "source_hidden": true
    },
    "scrolled": true
   },
   "outputs": [
    {
     "data": {
      "text/plain": [
       "[0.8851631063157412, 0.8449030665199191]"
      ]
     },
     "execution_count": 151,
     "metadata": {},
     "output_type": "execute_result"
    }
   ],
   "source": [
    "lr = LogisticRegression(labelCol='label', featuresCol='scaled_feature_vector',\n",
    "                        maxIter=10, regParam=0.0)\n",
    "\n",
    "evaluator = MulticlassClassificationEvaluator(metricName=\"f1\")\n",
    "\n",
    "paramGrid = ParamGridBuilder() \\\n",
    "    .addGrid(lr.regParam,[0.0, 0.1]) \\\n",
    "    .build()\n",
    "\n",
    "crossval = CrossValidator(estimator=lr,\n",
    "                          estimatorParamMaps=paramGrid,\n",
    "                          evaluator=evaluator,\n",
    "                          numFolds=3)\n",
    "\n",
    "cvModel = crossval.fit(train)\n",
    "cvModel.avgMetrics"
   ]
  },
  {
   "cell_type": "code",
   "execution_count": 241,
   "metadata": {},
   "outputs": [],
   "source": [
    "# create pipeline with logistic regression classifier, using default settings, train model and measure score against test\n",
    "logistic_regression_classifier = LogisticRegression(featuresCol='scaled_feature_vector', labelCol='label')\n",
    "pipeline = Pipeline(stages=[logistic_regression_classifier])\n",
    "model = pipeline.fit(train)\n",
    "preds = model.transform(test)\n",
    "scores.append(['Logistic Regression', evaluator.evaluate(preds)])"
   ]
  },
  {
   "cell_type": "markdown",
   "metadata": {},
   "source": [
    "#### Random Forest Classifier"
   ]
  },
  {
   "cell_type": "code",
   "execution_count": 152,
   "metadata": {
    "collapsed": true,
    "jupyter": {
     "outputs_hidden": true,
     "source_hidden": true
    }
   },
   "outputs": [
    {
     "data": {
      "text/plain": [
       "[0.8104051224794977, 0.8385750314416927]"
      ]
     },
     "execution_count": 152,
     "metadata": {},
     "output_type": "execute_result"
    }
   ],
   "source": [
    "rf = RandomForestClassifier(labelCol=\"label\", featuresCol=\"scaled_feature_vector\", numTrees=10)\n",
    "\n",
    "evaluator_rf = MulticlassClassificationEvaluator(metricName=\"f1\")\n",
    "\n",
    "paramGrid_rf = ParamGridBuilder() \\\n",
    "    .addGrid(rf.numTrees,[5, 10]) \\\n",
    "    .build()\n",
    "\n",
    "crossval_rf = CrossValidator(estimator=rf,\n",
    "                          estimatorParamMaps=paramGrid_rf,\n",
    "                          evaluator=evaluator_rf,\n",
    "                          numFolds=3)\n",
    "\n",
    "cvModel_rf = crossval_rf.fit(train)\n",
    "cvModel_rf.avgMetrics"
   ]
  },
  {
   "cell_type": "code",
   "execution_count": 242,
   "metadata": {},
   "outputs": [],
   "source": [
    "random_forest_classifier = RandomForestClassifier(featuresCol='scaled_feature_vector', labelCol='label')\n",
    "pipeline = Pipeline(stages=[random_forest_classifier])\n",
    "model = pipeline.fit(train)\n",
    "preds = model.transform(test)\n",
    "scores.append(['Random Forest', evaluator.evaluate(preds)])"
   ]
  },
  {
   "cell_type": "markdown",
   "metadata": {},
   "source": [
    "#### Gradient Boosted Trees"
   ]
  },
  {
   "cell_type": "code",
   "execution_count": 153,
   "metadata": {
    "collapsed": true,
    "jupyter": {
     "outputs_hidden": true
    }
   },
   "outputs": [
    {
     "data": {
      "text/plain": [
       "[0.8147919627924023, 0.8024057396782098]"
      ]
     },
     "execution_count": 153,
     "metadata": {},
     "output_type": "execute_result"
    }
   ],
   "source": [
    "gbt = GBTClassifier(labelCol=\"label\", featuresCol=\"scaled_feature_vector\", maxDepth=5)\n",
    "\n",
    "evaluator_gbt = MulticlassClassificationEvaluator(metricName=\"f1\")\n",
    "\n",
    "paramGrid_gbt = ParamGridBuilder() \\\n",
    "    .addGrid(gbt.maxDepth,[5, 10]) \\\n",
    "    .build()\n",
    "\n",
    "crossval_gbt = CrossValidator(estimator=gbt,\n",
    "                          estimatorParamMaps=paramGrid_gbt,\n",
    "                          evaluator=evaluator_gbt,\n",
    "                          numFolds=3)\n",
    "\n",
    "cvModel_gbt = crossval_gbt.fit(train)\n",
    "cvModel_gbt.avgMetrics"
   ]
  },
  {
   "cell_type": "code",
   "execution_count": 243,
   "metadata": {},
   "outputs": [],
   "source": [
    "gbt_classifier = GBTClassifier(featuresCol='scaled_feature_vector', labelCol='label')\n",
    "pipeline = Pipeline(stages=[gbt_classifier])\n",
    "model = pipeline.fit(train)\n",
    "preds = model.transform(test)\n",
    "scores.append(['Gradient Boosted Trees', evaluator.evaluate(preds)])"
   ]
  },
  {
   "cell_type": "code",
   "execution_count": 248,
   "metadata": {},
   "outputs": [
    {
     "name": "stdout",
     "output_type": "stream",
     "text": [
      "+-----+---------------------+--------------------+--------------------+----------+\n",
      "|label|scaled_feature_vector|       rawPrediction|         probability|prediction|\n",
      "+-----+---------------------+--------------------+--------------------+----------+\n",
      "|    1| [42.1394729204961...|[-2.1250091233886...|[0.01406337403856...|       1.0|\n",
      "|    0| [41.5335490142794...|[1.53847230724803...|[0.95593165158116...|       0.0|\n",
      "|    1| [42.1720597362632...|[1.53847230724803...|[0.95593165158116...|       0.0|\n",
      "|    0| [42.1856502819118...|[0.73728020245256...|[0.81374955572022...|       0.0|\n",
      "|    0| [42.2279952769768...|[-1.4815106986531...|[0.04912467983043...|       1.0|\n",
      "|    0| [42.6577069364212...|[1.51632120851915...|[0.95402720665424...|       0.0|\n",
      "|    0| [41.7251072691599...|[1.52627679196980...|[0.95489264408007...|       0.0|\n",
      "|    0| [41.3167942597854...|[1.51993255724791...|[0.95434295227956...|       0.0|\n",
      "|    1| [41.9211024120144...|[-1.5435020027249...|[0.04364652142729...|       1.0|\n",
      "|    0| [41.9222702278027...|[1.51280670271837...|[0.95371793342688...|       0.0|\n",
      "|    0| [42.3743484833262...|[1.51280670271837...|[0.95371793342688...|       0.0|\n",
      "|    1| [40.9367968634610...|[-1.3618173939555...|[0.06159304284011...|       1.0|\n",
      "|    0| [42.0372760882095...|[1.52627679196980...|[0.95489264408007...|       0.0|\n",
      "|    0| [41.4083225348405...|[1.52851672379737...|[0.95508521107825...|       0.0|\n",
      "|    0| (21,[0,1,2,3,4,5,...|[1.52851672379737...|[0.95508521107825...|       0.0|\n",
      "|    0| [41.7386244903217...|[1.53847230724803...|[0.95593165158116...|       0.0|\n",
      "|    1| [40.9423654781092...|[-1.5435020027249...|[0.04364652142729...|       1.0|\n",
      "|    0| [43.4107554264681...|[1.40571342755403...|[0.94329019539262...|       0.0|\n",
      "|    0| [41.9723590926178...|[1.53847230724803...|[0.95593165158116...|       0.0|\n",
      "|    0| [41.4992354799035...|[1.53847230724803...|[0.95593165158116...|       0.0|\n",
      "+-----+---------------------+--------------------+--------------------+----------+\n",
      "only showing top 20 rows\n",
      "\n"
     ]
    }
   ],
   "source": [
    "preds.show()"
   ]
  },
  {
   "cell_type": "code",
   "execution_count": 258,
   "metadata": {},
   "outputs": [
    {
     "name": "stdout",
     "output_type": "stream",
     "text": [
      "[[22.  2.]\n",
      " [ 5. 13.]]\n"
     ]
    }
   ],
   "source": [
    "# ref: https://stackoverflow.com/questions/58404845/confusion-matrix-to-get-precsion-recall-f1score\n",
    "\n",
    "#select only prediction and label columns\n",
    "preds_and_labels = preds.select(['prediction','label'])\n",
    "\n",
    "preds_and_labels = preds_and_labels.withColumn('label', f.col('label').cast(FloatType())).sort(f.desc('prediction'))\n",
    "\n",
    "metrics = MulticlassMetrics(preds_and_labels.rdd.map(tuple))\n",
    "\n",
    "print(metrics.confusionMatrix().toArray())"
   ]
  },
  {
   "cell_type": "code",
   "execution_count": 268,
   "metadata": {},
   "outputs": [
    {
     "data": {
      "text/plain": [
       "<AxesSubplot:>"
      ]
     },
     "execution_count": 268,
     "metadata": {},
     "output_type": "execute_result"
    },
    {
     "data": {
      "image/png": "[encoded data removed]",
      "text/plain": [
       "<Figure size 720x504 with 2 Axes>"
      ]
     },
     "metadata": {},
     "output_type": "display_data"
    }
   ],
   "source": [
    "df_cm = pd.DataFrame(metrics.confusionMatrix().toArray(), index = [i for i in ['Actual:Not Churned', 'Actual:Churned']],\n",
    "                  columns = [i for i in [\"Predicted:Not Churned\", \"Predicted:Churned\"]])\n",
    "plt.figure(figsize = (10,7))\n",
    "sns.heatmap(df_cm, annot=True)"
   ]
  },
  {
   "cell_type": "code",
   "execution_count": 244,
   "metadata": {},
   "outputs": [
    {
     "data": {
      "text/plain": [
       "<AxesSubplot:xlabel='Classifier', ylabel='F1 Score'>"
      ]
     },
     "execution_count": 244,
     "metadata": {},
     "output_type": "execute_result"
    },
    {
     "data": {
      "image/png": "[encoded data removed]",
      "text/plain": [
       "<Figure size 432x288 with 1 Axes>"
      ]
     },
     "metadata": {},
     "output_type": "display_data"
    }
   ],
   "source": [
    "scores_df = pd.DataFrame(scores, columns=['Classifier', 'F1 Score'])\n",
    "sns.barplot(x='Classifier',y='F1 Score',data=scores_df)"
   ]
  },
  {
   "cell_type": "code",
   "execution_count": 245,
   "metadata": {},
   "outputs": [
    {
     "data": {
      "text/plain": [
       "[['Logistic Regression', 0.7959183673469388],\n",
       " ['Random Forest', 0.7448979591836735],\n",
       " ['Gradient Boosted Trees', 0.8306595365418894]]"
      ]
     },
     "execution_count": 245,
     "metadata": {},
     "output_type": "execute_result"
    }
   ],
   "source": [
    "scores"
   ]
  },
  {
   "cell_type": "markdown",
   "metadata": {},
   "source": [
    "#### Tuning"
   ]
  },
  {
   "cell_type": "code",
   "execution_count": 277,
   "metadata": {},
   "outputs": [],
   "source": [
    "# lets recreate our best model: GBT\n",
    "\n",
    "gbt_classifier = GBTClassifier(featuresCol='scaled_feature_vector', labelCol='label')\n",
    "\n",
    "# embed it in a pipeline\n",
    "\n",
    "optimisation_pipeline = Pipeline(stages=[gbt_classifier])\n",
    "\n",
    "paramGrid_gbt = ParamGridBuilder() \\\n",
    "    .addGrid(gbt_classifier.maxDepth,[2, 5, 10]) \\\n",
    "    .addGrid(gbt_classifier.maxBins,[5,10]) \\\n",
    "    .addGrid(gbt_classifier.maxIter,[5,10,50]) \\\n",
    "    .build()\n",
    "\n",
    "crossval = CrossValidator(estimator=optimisation_pipeline,\n",
    "                          estimatorParamMaps=paramGrid_gbt,\n",
    "                          evaluator=evaluator,\n",
    "                          numFolds=3)\n",
    "\n",
    "# Run cross-validation, and choose the best set of parameters.\n",
    "cvModel = crossval.fit(train)\n",
    "\n",
    "# Make predictions on test documents. cvModel uses the best model found (lrModel).\n",
    "prediction = cvModel.transform(test)"
   ]
  },
  {
   "cell_type": "code",
   "execution_count": 280,
   "metadata": {},
   "outputs": [],
   "source": [
    "scores.append(['GBT Optimized', evaluator.evaluate(prediction)])"
   ]
  },
  {
   "cell_type": "code",
   "execution_count": 281,
   "metadata": {},
   "outputs": [
    {
     "data": {
      "text/plain": [
       "[['Logistic Regression', 0.7959183673469388],\n",
       " ['Random Forest', 0.7448979591836735],\n",
       " ['Gradient Boosted Trees', 0.8306595365418894],\n",
       " ['GBT Optimized', 0.8306595365418894],\n",
       " ['GBT Optimized', 0.7669172932330828]]"
      ]
     },
     "execution_count": 281,
     "metadata": {},
     "output_type": "execute_result"
    }
   ],
   "source": [
    "scores"
   ]
  },
  {
   "cell_type": "code",
   "execution_count": null,
   "metadata": {},
   "outputs": [],
   "source": [
    "sns.barplot(x='feature_importance', y='features', data=feat_imp_df.sort_values(by=['feature_importance'], ascending=False))"
   ]
  },
  {
   "cell_type": "code",
   "execution_count": null,
   "metadata": {},
   "outputs": [],
   "source": []
  },
  {
   "cell_type": "code",
   "execution_count": 62,
   "metadata": {},
   "outputs": [],
   "source": [
    "rf_final = RandomForestClassifier(labelCol=\"label\", featuresCol=\"scaled_feature_vector\", numTrees=10)\n",
    "\n",
    "rf_model = rf_final.fit(train)\n",
    "\n",
    "final_results = rf_model.transform(test)"
   ]
  },
  {
   "cell_type": "code",
   "execution_count": 63,
   "metadata": {},
   "outputs": [
    {
     "name": "stdout",
     "output_type": "stream",
     "text": [
      "0.7380952380952381\n"
     ]
    }
   ],
   "source": [
    "print(evaluator.evaluate(final_results, {evaluator.metricName: \"accuracy\"}))"
   ]
  },
  {
   "cell_type": "code",
   "execution_count": 64,
   "metadata": {},
   "outputs": [
    {
     "name": "stdout",
     "output_type": "stream",
     "text": [
      "0.7151211361737678\n"
     ]
    }
   ],
   "source": [
    "print(evaluator.evaluate(final_results, {evaluator.metricName: \"f1\"}))"
   ]
  },
  {
   "cell_type": "code",
   "execution_count": 91,
   "metadata": {},
   "outputs": [
    {
     "data": {
      "text/plain": [
       "SparseVector(21, {0: 0.0431, 1: 0.0141, 2: 0.0252, 3: 0.0261, 4: 0.1521, 5: 0.2635, 6: 0.0099, 7: 0.0034, 8: 0.0184, 9: 0.0452, 10: 0.0756, 11: 0.0132, 12: 0.052, 13: 0.0217, 14: 0.0284, 16: 0.016, 17: 0.0223, 18: 0.1647, 19: 0.0031, 20: 0.0022})"
      ]
     },
     "execution_count": 91,
     "metadata": {},
     "output_type": "execute_result"
    }
   ],
   "source": [
    "rf_model.featureImportances\n",
    "# the feature with index 15 has 0 importance which is why its not shown here."
   ]
  },
  {
   "cell_type": "code",
   "execution_count": 93,
   "metadata": {},
   "outputs": [],
   "source": [
    "# removing feature with 0 importance\n",
    "input_cols.remove('total_about_events')"
   ]
  },
  {
   "cell_type": "code",
   "execution_count": 97,
   "metadata": {},
   "outputs": [
    {
     "data": {
      "text/plain": [
       "<AxesSubplot:xlabel='feature_importance', ylabel='features'>"
      ]
     },
     "execution_count": 97,
     "metadata": {},
     "output_type": "execute_result"
    },
    {
     "data": {
      "image/png": "[encoded data removed]",
      "text/plain": [
       "<Figure size 432x288 with 1 Axes>"
      ]
     },
     "metadata": {},
     "output_type": "display_data"
    }
   ],
   "source": [
    "feature_importances = rf_model.featureImportances.values.tolist()\n",
    "feat_imp_df = pd.DataFrame({'feature_importance': feature_importances, 'features': input_cols})\n",
    "sns.barplot(x='feature_importance', y='features', data=feat_imp_df.sort_values(by=['feature_importance'], ascending=False))"
   ]
  },
  {
   "cell_type": "markdown",
   "metadata": {},
   "source": [
    "# Final Steps\n",
    "Clean up your code, adding comments and renaming variables to make the code easier to read and maintain. Refer to the Spark Project Overview page and Data Scientist Capstone Project Rubric to make sure you are including all components of the capstone project and meet all expectations. Remember, this includes thorough documentation in a README file in a Github repository, as well as a web app or blog post."
   ]
  },
  {
   "cell_type": "code",
   "execution_count": null,
   "metadata": {},
   "outputs": [],
   "source": []
  }
 ],
 "metadata": {
  "kernelspec": {
   "display_name": "Python 3",
   "language": "python",
   "name": "python3"
  },
  "language_info": {
   "codemirror_mode": {
    "name": "ipython",
    "version": 3
   },
   "file_extension": ".py",
   "mimetype": "text/x-python",
   "name": "python",
   "nbconvert_exporter": "python",
   "pygments_lexer": "ipython3",
   "version": "3.8.5"
  }
 },
 "nbformat": 4,
 "nbformat_minor": 4
}
