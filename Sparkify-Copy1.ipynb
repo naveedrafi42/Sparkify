{
 "cells": [
  {
   "cell_type": "markdown",
   "metadata": {},
   "source": [
    "# Sparkify Project Workspace\n",
    "This workspace contains a tiny subset (128MB) of the full dataset available (12GB). Feel free to use this workspace to build your project, or to explore a smaller subset with Spark before deploying your cluster on the cloud. Instructions for setting up your Spark cluster is included in the last lesson of the Extracurricular Spark Course content.\n",
    "\n",
    "You can follow the steps below to guide your data analysis and model building portion of this project."
   ]
  },
  {
   "cell_type": "code",
   "execution_count": null,
   "metadata": {},
   "outputs": [],
   "source": [
    "# import libraries\n",
    "from pyspark.sql import SparkSession\n",
    "from pyspark.sql.functions import udf, isnull, udf, col, to_date, max, min, countDistinct\n",
    "import pyspark.sql.functions as f\n",
    "from pyspark.sql.window import Window\n",
    "from pyspark.ml import Pipeline\n",
    "from pyspark.ml.feature import StringIndexer, OneHotEncoderEstimator\n",
    "from pyspark.ml.feature import VectorIndexer, VectorAssembler, StandardScaler\n",
    "from pyspark.ml.classification import LogisticRegression, RandomForestClassifier, GBTClassifier\n",
    "from pyspark.ml.evaluation import MulticlassClassificationEvaluator\n",
    "from pyspark.ml.tuning import CrossValidator, ParamGridBuilder\n",
    "\n",
    "\n",
    "from datetime import datetime\n",
    "import matplotlib.pyplot as plt\n",
    "import matplotlib.ticker as ticker\n",
    "import matplotlib.dates as mdates\n",
    "import seaborn as sns\n",
    "import matplotlib.cbook as cbook\n",
    "import numpy as np\n",
    "\n",
    "%matplotlib inline\n",
    "\n",
    "#set seaborn style\n",
    "sns.set(style=\"whitegrid\")"
   ]
  },
  {
   "cell_type": "code",
   "execution_count": 2,
   "metadata": {},
   "outputs": [],
   "source": [
    "# create a Spark session\n",
    "spark = SparkSession.builder.appName(\"Sparkify churn prediction\").getOrCreate()"
   ]
  },
  {
   "cell_type": "markdown",
   "metadata": {},
   "source": [
    "# Load and Clean Dataset\n",
    "In this workspace, the mini-dataset file is `mini_sparkify_event_data.json`. Load and clean the dataset, checking for invalid or missing data - for example, records without userids or sessionids. "
   ]
  },
  {
   "cell_type": "markdown",
   "metadata": {},
   "source": [
    "<ol>\n",
    "<li>Load data\n",
    "<li>Review data and identify dirty rows\n",
    "<li>Drop dirty rows\n",
    "<li>Check for duplicates\n",
    "<li>Make time human readable"
   ]
  },
  {
   "cell_type": "code",
   "execution_count": 3,
   "metadata": {
    "scrolled": true
   },
   "outputs": [
    {
     "name": "stdout",
     "output_type": "stream",
     "text": [
      "root\n",
      " |-- artist: string (nullable = true)\n",
      " |-- auth: string (nullable = true)\n",
      " |-- firstName: string (nullable = true)\n",
      " |-- gender: string (nullable = true)\n",
      " |-- itemInSession: long (nullable = true)\n",
      " |-- lastName: string (nullable = true)\n",
      " |-- length: double (nullable = true)\n",
      " |-- level: string (nullable = true)\n",
      " |-- location: string (nullable = true)\n",
      " |-- method: string (nullable = true)\n",
      " |-- page: string (nullable = true)\n",
      " |-- registration: long (nullable = true)\n",
      " |-- sessionId: long (nullable = true)\n",
      " |-- song: string (nullable = true)\n",
      " |-- status: long (nullable = true)\n",
      " |-- ts: long (nullable = true)\n",
      " |-- userAgent: string (nullable = true)\n",
      " |-- userId: string (nullable = true)\n",
      "\n"
     ]
    }
   ],
   "source": [
    "# Read the sample mini dataset\n",
    "raw_events_df = spark.read.json('mini_sparkify_event_data.json')\n",
    "\n",
    "# Review columns\n",
    "raw_events_df.printSchema()"
   ]
  },
  {
   "cell_type": "code",
   "execution_count": 4,
   "metadata": {},
   "outputs": [
    {
     "name": "stdout",
     "output_type": "stream",
     "text": [
      "Number of rows in raw dataset: 286500\n",
      "+-------+-----------------+\n",
      "|summary|        sessionId|\n",
      "+-------+-----------------+\n",
      "|  count|           286500|\n",
      "|   mean|1041.526554973822|\n",
      "| stddev|726.7762634630741|\n",
      "|    min|                1|\n",
      "|    max|             2474|\n",
      "+-------+-----------------+\n",
      "\n",
      "+-------+-----------------+\n",
      "|summary|           userId|\n",
      "+-------+-----------------+\n",
      "|  count|           286500|\n",
      "|   mean|59682.02278593872|\n",
      "| stddev|109091.9499991047|\n",
      "|    min|                 |\n",
      "|    max|               99|\n",
      "+-------+-----------------+\n",
      "\n"
     ]
    }
   ],
   "source": [
    "# number of raw events\n",
    "print('Number of rows in raw dataset: ' + str(raw_events_df.count()))\n",
    "\n",
    "# There seem to be 2 ID columns: sessionId and userId\n",
    "raw_events_df.describe(\"sessionId\").show()\n",
    "\n",
    "raw_events_df.describe(\"userId\").show()"
   ]
  },
  {
   "cell_type": "code",
   "execution_count": 5,
   "metadata": {},
   "outputs": [
    {
     "name": "stdout",
     "output_type": "stream",
     "text": [
      "Number of sessions before cleaning: 2354\n",
      "Number of users before cleaning: 226\n"
     ]
    }
   ],
   "source": [
    "print('Number of sessions before cleaning: ' + str(raw_events_df.select('sessionId').distinct().count()))\n",
    "print('Number of users before cleaning: ' + str(raw_events_df.select('userId').distinct().count()))"
   ]
  },
  {
   "cell_type": "code",
   "execution_count": 6,
   "metadata": {},
   "outputs": [
    {
     "name": "stdout",
     "output_type": "stream",
     "text": [
      "+------+\n",
      "|userId|\n",
      "+------+\n",
      "+------+\n",
      "\n",
      "+---------+\n",
      "|sessionId|\n",
      "+---------+\n",
      "+---------+\n",
      "\n",
      "+------+-----------------------+\n",
      "|userId|total empty userID rows|\n",
      "+------+-----------------------+\n",
      "|      |                   8346|\n",
      "+------+-----------------------+\n",
      "\n",
      "+---------+--------------------------+\n",
      "|sessionId|total empty sessionId rows|\n",
      "+---------+--------------------------+\n",
      "+---------+--------------------------+\n",
      "\n"
     ]
    }
   ],
   "source": [
    "# lets ensure the session and user ID values are valid\n",
    "raw_events_df.select('userId').where(isnull(raw_events_df.userId)).show()\n",
    "\n",
    "raw_events_df.select('sessionId').where(isnull(raw_events_df.sessionId)).show()\n",
    "\n",
    "raw_events_df.groupBy('userId').agg({'userId':'count'}).where(raw_events_df.userId == '') \\\n",
    "    .withColumnRenamed('count(userId)', 'total empty userID rows').show()\n",
    "\n",
    "raw_events_df.groupBy('sessionId').agg({'sessionId':'count'}).where(raw_events_df.sessionId == '') \\\n",
    "    .withColumnRenamed('count(sessionId)', 'total empty sessionId rows').show()"
   ]
  },
  {
   "cell_type": "code",
   "execution_count": 7,
   "metadata": {},
   "outputs": [
    {
     "name": "stdout",
     "output_type": "stream",
     "text": [
      "Number of rows without user ID: 8346\n"
     ]
    }
   ],
   "source": [
    "print('Number of rows without user ID: ' + str(raw_events_df.where(raw_events_df.userId =='').count()))"
   ]
  },
  {
   "cell_type": "markdown",
   "metadata": {},
   "source": [
    "### Remove empty userId"
   ]
  },
  {
   "cell_type": "code",
   "execution_count": 4,
   "metadata": {},
   "outputs": [],
   "source": [
    "# Removing rows with empty ID field -> in this case its userId\n",
    "clean_events_df = raw_events_df.where(raw_events_df.userId != '')"
   ]
  },
  {
   "cell_type": "code",
   "execution_count": 9,
   "metadata": {},
   "outputs": [
    {
     "name": "stdout",
     "output_type": "stream",
     "text": [
      "Number of events after cleaning: 278154\n",
      "Number of sessions after cleaning: 2312\n",
      "Number of users after cleaning: 225\n"
     ]
    }
   ],
   "source": [
    "print('Number of events after cleaning: ' + str(clean_events_df.count()))\n",
    "print('Number of sessions after cleaning: ' + str(clean_events_df.select('sessionId').distinct().count()))\n",
    "print('Number of users after cleaning: ' + str(clean_events_df.select('userId').distinct().count()))"
   ]
  },
  {
   "cell_type": "code",
   "execution_count": 10,
   "metadata": {},
   "outputs": [
    {
     "data": {
      "text/plain": [
       "False"
      ]
     },
     "execution_count": 10,
     "metadata": {},
     "output_type": "execute_result"
    }
   ],
   "source": [
    "# check for duplicate rows - looks like there are no duplicates in the dataset\n",
    "clean_events_df.count() > clean_events_df.dropDuplicates(clean_events_df.schema.names).count()"
   ]
  },
  {
   "cell_type": "markdown",
   "metadata": {},
   "source": [
    "### Format datetime columns"
   ]
  },
  {
   "cell_type": "code",
   "execution_count": 5,
   "metadata": {},
   "outputs": [],
   "source": [
    "# Finally before EDA, convert time into human readable format\n",
    "get_time = udf(lambda x: datetime.fromtimestamp(x / 1000.0).strftime(\"%Y-%m-%d %H:%M:%S\"))\n",
    "events = clean_events_df.withColumn('time', get_time(clean_events_df.ts))"
   ]
  },
  {
   "cell_type": "code",
   "execution_count": 12,
   "metadata": {
    "scrolled": false
   },
   "outputs": [
    {
     "name": "stdout",
     "output_type": "stream",
     "text": [
      "+--------------+---------+---------+------+-------------+--------+---------+-----+---------------+------+--------+-------------+---------+---------+------+-------------+--------------------+------+-------------------+\n",
      "|        artist|     auth|firstName|gender|itemInSession|lastName|   length|level|       location|method|    page| registration|sessionId|     song|status|           ts|           userAgent|userId|               time|\n",
      "+--------------+---------+---------+------+-------------+--------+---------+-----+---------------+------+--------+-------------+---------+---------+------+-------------+--------------------+------+-------------------+\n",
      "|Martha Tilston|Logged In|    Colin|     M|           50| Freeman|277.89016| paid|Bakersfield, CA|   PUT|NextSong|1538173362000|       29|Rockpools|   200|1538352117000|Mozilla/5.0 (Wind...|    30|2018-10-01 00:01:57|\n",
      "+--------------+---------+---------+------+-------------+--------+---------+-----+---------------+------+--------+-------------+---------+---------+------+-------------+--------------------+------+-------------------+\n",
      "only showing top 1 row\n",
      "\n"
     ]
    }
   ],
   "source": [
    "events.show(1)"
   ]
  },
  {
   "cell_type": "markdown",
   "metadata": {},
   "source": [
    "# Exploratory Data Analysis\n",
    "When you're working with the full dataset, perform EDA by loading a small subset of the data and doing basic manipulations within Spark. In this workspace, you are already provided a small subset of data you can explore.\n",
    "\n",
    "### Define Churn\n",
    "\n",
    "Once you've done some preliminary analysis, create a column `Churn` to use as the label for your model. I suggest using the `Cancellation Confirmation` events to define your churn, which happen for both paid and free users. As a bonus task, you can also look into the `Downgrade` events.\n",
    "\n",
    "### Explore Data\n",
    "Once you've defined churn, perform some exploratory data analysis to observe the behavior for users who stayed vs users who churned. You can start by exploring aggregates on these two groups of users, observing how much of a specific action they experienced per a certain time unit or number of songs played."
   ]
  },
  {
   "cell_type": "code",
   "execution_count": 13,
   "metadata": {},
   "outputs": [],
   "source": [
    "# explore basic characteristics\n",
    "# define churn by adding churn column(s)\n",
    "# number of users, artists, songs, pages, timing, gender\n",
    "# do further EDA"
   ]
  },
  {
   "cell_type": "code",
   "execution_count": 14,
   "metadata": {},
   "outputs": [
    {
     "name": "stdout",
     "output_type": "stream",
     "text": [
      "root\n",
      " |-- artist: string (nullable = true)\n",
      " |-- auth: string (nullable = true)\n",
      " |-- firstName: string (nullable = true)\n",
      " |-- gender: string (nullable = true)\n",
      " |-- itemInSession: long (nullable = true)\n",
      " |-- lastName: string (nullable = true)\n",
      " |-- length: double (nullable = true)\n",
      " |-- level: string (nullable = true)\n",
      " |-- location: string (nullable = true)\n",
      " |-- method: string (nullable = true)\n",
      " |-- page: string (nullable = true)\n",
      " |-- registration: long (nullable = true)\n",
      " |-- sessionId: long (nullable = true)\n",
      " |-- song: string (nullable = true)\n",
      " |-- status: long (nullable = true)\n",
      " |-- ts: long (nullable = true)\n",
      " |-- userAgent: string (nullable = true)\n",
      " |-- userId: string (nullable = true)\n",
      " |-- time: string (nullable = true)\n",
      "\n"
     ]
    }
   ],
   "source": [
    "events.printSchema()"
   ]
  },
  {
   "cell_type": "code",
   "execution_count": 15,
   "metadata": {},
   "outputs": [
    {
     "name": "stdout",
     "output_type": "stream",
     "text": [
      "+--------------------+------+\n",
      "|                page| count|\n",
      "+--------------------+------+\n",
      "|              Cancel|    52|\n",
      "|Cancellation Conf...|    52|\n",
      "|    Submit Downgrade|    63|\n",
      "|      Submit Upgrade|   159|\n",
      "|               Error|   252|\n",
      "|       Save Settings|   310|\n",
      "|               About|   495|\n",
      "|             Upgrade|   499|\n",
      "|                Help|  1454|\n",
      "|            Settings|  1514|\n",
      "|           Downgrade|  2055|\n",
      "|         Thumbs Down|  2546|\n",
      "|              Logout|  3226|\n",
      "|         Roll Advert|  3933|\n",
      "|          Add Friend|  4277|\n",
      "|     Add to Playlist|  6526|\n",
      "|                Home| 10082|\n",
      "|           Thumbs Up| 12551|\n",
      "|            NextSong|228108|\n",
      "+--------------------+------+\n",
      "\n"
     ]
    }
   ],
   "source": [
    "events.groupBy(\"page\").count().orderBy('count').show()"
   ]
  },
  {
   "cell_type": "markdown",
   "metadata": {},
   "source": [
    "#### 1. Auth"
   ]
  },
  {
   "cell_type": "code",
   "execution_count": 16,
   "metadata": {
    "scrolled": true
   },
   "outputs": [
    {
     "name": "stdout",
     "output_type": "stream",
     "text": [
      "+---------+------+\n",
      "|     auth| count|\n",
      "+---------+------+\n",
      "|Cancelled|    52|\n",
      "|Logged In|278102|\n",
      "+---------+------+\n",
      "\n"
     ]
    }
   ],
   "source": [
    "events.groupBy('auth').count().orderBy('count').show()"
   ]
  },
  {
   "cell_type": "code",
   "execution_count": 17,
   "metadata": {},
   "outputs": [
    {
     "name": "stdout",
     "output_type": "stream",
     "text": [
      "+------+---------+---------+------+-------------+--------+------+-----+--------------------+------+--------------------+-------------+---------+----+------+-------------+--------------------+------+-------------------+\n",
      "|artist|     auth|firstName|gender|itemInSession|lastName|length|level|            location|method|                page| registration|sessionId|song|status|           ts|           userAgent|userId|               time|\n",
      "+------+---------+---------+------+-------------+--------+------+-----+--------------------+------+--------------------+-------------+---------+----+------+-------------+--------------------+------+-------------------+\n",
      "|  null|Cancelled|   Adriel|     M|          104| Mendoza|  null| paid|  Kansas City, MO-KS|   GET|Cancellation Conf...|1535623466000|      514|null|   200|1538943990000|\"Mozilla/5.0 (Mac...|    18|2018-10-07 20:26:30|\n",
      "|  null|Cancelled|    Diego|     M|           56|   Mckee|  null| paid|Phoenix-Mesa-Scot...|   GET|Cancellation Conf...|1537167593000|      540|null|   200|1539033046000|\"Mozilla/5.0 (iPh...|    32|2018-10-08 21:10:46|\n",
      "|  null|Cancelled|    Mason|     M|           10|    Hart|  null| free|  Corpus Christi, TX|   GET|Cancellation Conf...|1533157139000|      174|null|   200|1539318918000|\"Mozilla/5.0 (Mac...|   125|2018-10-12 04:35:18|\n",
      "|  null|Cancelled|Alexander|     M|          332|  Garcia|  null| paid|Indianapolis-Carm...|   GET|Cancellation Conf...|1536817381000|      508|null|   200|1539375441000|Mozilla/5.0 (Wind...|   105|2018-10-12 20:17:21|\n",
      "|  null|Cancelled|    Kayla|     F|          273| Johnson|  null| paid|Philadelphia-Camd...|   GET|Cancellation Conf...|1538333829000|      797|null|   200|1539465584000|Mozilla/5.0 (Wind...|    17|2018-10-13 21:19:44|\n",
      "+------+---------+---------+------+-------------+--------+------+-----+--------------------+------+--------------------+-------------+---------+----+------+-------------+--------------------+------+-------------------+\n",
      "only showing top 5 rows\n",
      "\n"
     ]
    }
   ],
   "source": [
    "# taking a look at what 'Cancelled' auth events look like as its the same number as 'Cancellation Confirm' page events\n",
    "events.filter(events.auth == 'Cancelled').show(5)"
   ]
  },
  {
   "cell_type": "code",
   "execution_count": 18,
   "metadata": {},
   "outputs": [
    {
     "data": {
      "text/plain": [
       "52"
      ]
     },
     "execution_count": 18,
     "metadata": {},
     "output_type": "execute_result"
    }
   ],
   "source": [
    "events.filter(events.auth == 'Cancelled').groupBy(['page', 'userId']).count().count() # 52 cancellation events"
   ]
  },
  {
   "cell_type": "markdown",
   "metadata": {},
   "source": [
    "### Get churned users"
   ]
  },
  {
   "cell_type": "code",
   "execution_count": 6,
   "metadata": {},
   "outputs": [],
   "source": [
    "# Cancelled value in auth column seems to appear with cancellation confirmation\n",
    "# 2 ways I can define churn\n",
    "# 1) I can create a lambda function to flag cancellation events with 1 \n",
    "#    then apply max window over user to get churned users OR\n",
    "# 2) use the dataframe below to left join 'events' to this 'churned_users' \n",
    "#    and keep the count value as churned column\n",
    "\n",
    "# grouping by page or not yeilds the same set of userIds\n",
    "churned_users = events.filter(events.auth == 'Cancelled').groupBy(['page', 'userId']).count()"
   ]
  },
  {
   "cell_type": "markdown",
   "metadata": {},
   "source": [
    "##### Define Churn"
   ]
  },
  {
   "cell_type": "code",
   "execution_count": 7,
   "metadata": {},
   "outputs": [],
   "source": [
    "# using the first method, we first left join churned users as 'b' with events as 'a' on userId column\n",
    "# we then select all columns from the left table, i.e. events, and only the count column from right table\n",
    "# finally we rename count as churned and replace the unmatched rows with 0s into 'events_w_churn'\n",
    "events_w_churn = events.alias('a').join(churned_users.alias('b'), col('a.userId') == col('b.userId'),  how='left')\\\n",
    ".select([col('a.'+xx) for xx in events.columns] + [col('b.count')])\\\n",
    ".withColumnRenamed('count', 'churned').fillna({'churned': 0})"
   ]
  },
  {
   "cell_type": "code",
   "execution_count": 21,
   "metadata": {},
   "outputs": [],
   "source": [
    "# events_w_churn.show()"
   ]
  },
  {
   "cell_type": "code",
   "execution_count": 22,
   "metadata": {},
   "outputs": [],
   "source": [
    "# During EDA, I wanted to go column by column before defining churn \n",
    "# but the \"auth column\" and its unique values led me to define churn\n",
    "# continuing the exploration we can now look at each column and\n",
    "# its impact on churn."
   ]
  },
  {
   "cell_type": "markdown",
   "metadata": {},
   "source": [
    "#### 2. Registration and times"
   ]
  },
  {
   "cell_type": "code",
   "execution_count": 23,
   "metadata": {},
   "outputs": [],
   "source": [
    "# Now that we have defined churn and before exploring more columns\n",
    "# we will now look at what duration of data do we have\n",
    "#    close together, wide spread, registrations, user lengths etc..."
   ]
  },
  {
   "cell_type": "code",
   "execution_count": 8,
   "metadata": {},
   "outputs": [],
   "source": [
    "events_w_churn = events_w_churn.withColumn('reg_time', get_time('registration'))"
   ]
  },
  {
   "cell_type": "code",
   "execution_count": 25,
   "metadata": {},
   "outputs": [
    {
     "name": "stdout",
     "output_type": "stream",
     "text": [
      "+----------+----------+\n",
      "| min(date)| max(date)|\n",
      "+----------+----------+\n",
      "|2018-03-18|2018-11-26|\n",
      "+----------+----------+\n",
      "\n"
     ]
    }
   ],
   "source": [
    "# All our registrations range between 3rd March 2018 to 26th Nov 2018\n",
    "events_w_churn.groupBy(to_date('reg_time').alias('date')).count().sort('count').select(min(\"date\"), max(\"date\")).show(1)"
   ]
  },
  {
   "cell_type": "code",
   "execution_count": 26,
   "metadata": {
    "scrolled": true
   },
   "outputs": [
    {
     "name": "stdout",
     "output_type": "stream",
     "text": [
      "+----------+----------+\n",
      "| min(date)| max(date)|\n",
      "+----------+----------+\n",
      "|2018-10-01|2018-12-03|\n",
      "+----------+----------+\n",
      "\n"
     ]
    }
   ],
   "source": [
    "# All our events range between 1st Oct 2018 to 3rd Dec 2018\n",
    "events_w_churn.groupBy(to_date('time').alias('date')).count().sort('count').select(min(\"date\"), max(\"date\")).show(1)"
   ]
  },
  {
   "cell_type": "code",
   "execution_count": 27,
   "metadata": {},
   "outputs": [],
   "source": [
    "# Save the data for tableau\n",
    "# events_w_churn.toPandas().to_csv('clean_events.csv')"
   ]
  },
  {
   "cell_type": "code",
   "execution_count": 9,
   "metadata": {},
   "outputs": [],
   "source": [
    "daily_events_pd = events_w_churn.groupBy(to_date('time').alias('date')).count().sort('date').toPandas()"
   ]
  },
  {
   "cell_type": "code",
   "execution_count": 29,
   "metadata": {},
   "outputs": [
    {
     "data": {
      "text/plain": [
       "[Text(0,0,'2018-10-01'),\n",
       " Text(0,0,'2018-10-02'),\n",
       " Text(0,0,'2018-10-03'),\n",
       " Text(0,0,'2018-10-04'),\n",
       " Text(0,0,'2018-10-05'),\n",
       " Text(0,0,'2018-10-06'),\n",
       " Text(0,0,'2018-10-07'),\n",
       " Text(0,0,'2018-10-08'),\n",
       " Text(0,0,'2018-10-09'),\n",
       " Text(0,0,'2018-10-10'),\n",
       " Text(0,0,'2018-10-11'),\n",
       " Text(0,0,'2018-10-12'),\n",
       " Text(0,0,'2018-10-13'),\n",
       " Text(0,0,'2018-10-14'),\n",
       " Text(0,0,'2018-10-15'),\n",
       " Text(0,0,'2018-10-16'),\n",
       " Text(0,0,'2018-10-17'),\n",
       " Text(0,0,'2018-10-18'),\n",
       " Text(0,0,'2018-10-19'),\n",
       " Text(0,0,'2018-10-20'),\n",
       " Text(0,0,'2018-10-21'),\n",
       " Text(0,0,'2018-10-22'),\n",
       " Text(0,0,'2018-10-23'),\n",
       " Text(0,0,'2018-10-24'),\n",
       " Text(0,0,'2018-10-25'),\n",
       " Text(0,0,'2018-10-26'),\n",
       " Text(0,0,'2018-10-27'),\n",
       " Text(0,0,'2018-10-28'),\n",
       " Text(0,0,'2018-10-29'),\n",
       " Text(0,0,'2018-10-30'),\n",
       " Text(0,0,'2018-10-31'),\n",
       " Text(0,0,'2018-11-01'),\n",
       " Text(0,0,'2018-11-02'),\n",
       " Text(0,0,'2018-11-03'),\n",
       " Text(0,0,'2018-11-04'),\n",
       " Text(0,0,'2018-11-05'),\n",
       " Text(0,0,'2018-11-06'),\n",
       " Text(0,0,'2018-11-07'),\n",
       " Text(0,0,'2018-11-08'),\n",
       " Text(0,0,'2018-11-09'),\n",
       " Text(0,0,'2018-11-10'),\n",
       " Text(0,0,'2018-11-11'),\n",
       " Text(0,0,'2018-11-12'),\n",
       " Text(0,0,'2018-11-13'),\n",
       " Text(0,0,'2018-11-14'),\n",
       " Text(0,0,'2018-11-15'),\n",
       " Text(0,0,'2018-11-16'),\n",
       " Text(0,0,'2018-11-17'),\n",
       " Text(0,0,'2018-11-18'),\n",
       " Text(0,0,'2018-11-19'),\n",
       " Text(0,0,'2018-11-20'),\n",
       " Text(0,0,'2018-11-21'),\n",
       " Text(0,0,'2018-11-22'),\n",
       " Text(0,0,'2018-11-23'),\n",
       " Text(0,0,'2018-11-24'),\n",
       " Text(0,0,'2018-11-25'),\n",
       " Text(0,0,'2018-11-26'),\n",
       " Text(0,0,'2018-11-27'),\n",
       " Text(0,0,'2018-11-28'),\n",
       " Text(0,0,'2018-11-29'),\n",
       " Text(0,0,'2018-11-30'),\n",
       " Text(0,0,'2018-12-01'),\n",
       " Text(0,0,'2018-12-03')]"
      ]
     },
     "execution_count": 29,
     "metadata": {},
     "output_type": "execute_result"
    },
    {
     "data": {
      "image/png": "[encoded data removed]",
      "text/plain": [
       "<matplotlib.figure.Figure at 0x7f03fa495358>"
      ]
     },
     "metadata": {
      "needs_background": "light"
     },
     "output_type": "display_data"
    }
   ],
   "source": [
    "ax = daily_events_pd.plot(kind='bar',figsize=(17,5), title='Daily Events')\n",
    "ax.set_xticklabels(daily_events_pd['date'].tolist())"
   ]
  },
  {
   "cell_type": "code",
   "execution_count": 30,
   "metadata": {},
   "outputs": [
    {
     "name": "stdout",
     "output_type": "stream",
     "text": [
      "+--------------------+---------+---------+------+-------------+---------+---------+-----+--------------------+------+--------+-------------+---------+--------------------+------+-------------+--------------------+------+-------------------+-------+-------------------+\n",
      "|              artist|     auth|firstName|gender|itemInSession| lastName|   length|level|            location|method|    page| registration|sessionId|                song|status|           ts|           userAgent|userId|               time|churned|           reg_time|\n",
      "+--------------------+---------+---------+------+-------------+---------+---------+-----+--------------------+------+--------+-------------+---------+--------------------+------+-------------+--------------------+------+-------------------+-------+-------------------+\n",
      "|Sleeping With Sirens|Logged In| Darianna|     F|            0|Carpenter|202.97098| free|Bridgeport-Stamfo...|   PUT|NextSong|1538016340000|       31|Captain Tyin Knot...|   200|1539003534000|\"Mozilla/5.0 (iPh...|100010|2018-10-08 12:58:54|      0|2018-09-27 02:45:40|\n",
      "+--------------------+---------+---------+------+-------------+---------+---------+-----+--------------------+------+--------+-------------+---------+--------------------+------+-------------+--------------------+------+-------------------+-------+-------------------+\n",
      "only showing top 1 row\n",
      "\n"
     ]
    }
   ],
   "source": [
    "events_w_churn.show(1)"
   ]
  },
  {
   "cell_type": "markdown",
   "metadata": {},
   "source": [
    "##### Create days since registration and total days on sparkify columns"
   ]
  },
  {
   "cell_type": "code",
   "execution_count": 10,
   "metadata": {},
   "outputs": [],
   "source": [
    "# In addition to churned, lets add the lifetime column which will be max event time - reg time for each user\n",
    "\n",
    "# add days_since_registration column for each event\n",
    "events_w_churn = events_w_churn.withColumn('days_since_registration',f.round((events_w_churn.ts-events_w_churn.registration)/1000/3600/24))\n",
    "\n",
    "# create a window over each user\n",
    "user_window = Window.partitionBy(\"userId\")\n",
    "\n",
    "# create a column to choose days_since_registration over each window \n",
    "events_w_churn = events_w_churn.withColumn('total_days_on_sparkify', f.round(max(events_w_churn.days_since_registration).over(user_window), 0))"
   ]
  },
  {
   "cell_type": "code",
   "execution_count": 32,
   "metadata": {},
   "outputs": [
    {
     "name": "stdout",
     "output_type": "stream",
     "text": [
      "+--------------------+---------+---------+------+-------------+---------+---------+-----+--------------------+------+--------+-------------+---------+--------------------+------+-------------+--------------------+------+-------------------+-------+-------------------+-----------------------+----------------------+\n",
      "|              artist|     auth|firstName|gender|itemInSession| lastName|   length|level|            location|method|    page| registration|sessionId|                song|status|           ts|           userAgent|userId|               time|churned|           reg_time|days_since_registration|total_days_on_sparkify|\n",
      "+--------------------+---------+---------+------+-------------+---------+---------+-----+--------------------+------+--------+-------------+---------+--------------------+------+-------------+--------------------+------+-------------------+-------+-------------------+-----------------------+----------------------+\n",
      "|Sleeping With Sirens|Logged In| Darianna|     F|            0|Carpenter|202.97098| free|Bridgeport-Stamfo...|   PUT|NextSong|1538016340000|       31|Captain Tyin Knot...|   200|1539003534000|\"Mozilla/5.0 (iPh...|100010|2018-10-08 12:58:54|      0|2018-09-27 02:45:40|                   11.0|                  56.0|\n",
      "+--------------------+---------+---------+------+-------------+---------+---------+-----+--------------------+------+--------+-------------+---------+--------------------+------+-------------+--------------------+------+-------------------+-------+-------------------+-----------------------+----------------------+\n",
      "only showing top 1 row\n",
      "\n"
     ]
    }
   ],
   "source": [
    "events_w_churn.show(1)"
   ]
  },
  {
   "cell_type": "code",
   "execution_count": 33,
   "metadata": {},
   "outputs": [
    {
     "name": "stdout",
     "output_type": "stream",
     "text": [
      "+-------+---------------------------+\n",
      "|churned|avg(total_days_on_sparkify)|\n",
      "+-------+---------------------------+\n",
      "|      0|          93.08523725834797|\n",
      "|      1|          67.61505884450784|\n",
      "+-------+---------------------------+\n",
      "\n"
     ]
    }
   ],
   "source": [
    "# We can see that the average time spent on the service for churned users is considerable less\n",
    "events_w_churn \\\n",
    "    .select('churned','total_days_on_sparkify') \\\n",
    "    .groupBy('churned') \\\n",
    "    .agg({'total_days_on_sparkify':'avg'}).show()"
   ]
  },
  {
   "cell_type": "markdown",
   "metadata": {},
   "source": [
    "#### gender"
   ]
  },
  {
   "cell_type": "code",
   "execution_count": 34,
   "metadata": {
    "scrolled": true
   },
   "outputs": [
    {
     "data": {
      "text/plain": [
       "<matplotlib.axes._subplots.AxesSubplot at 0x7f03f834b1d0>"
      ]
     },
     "execution_count": 34,
     "metadata": {},
     "output_type": "execute_result"
    },
    {
     "data": {
      "image/png": "[encoded data removed]",
      "text/plain": [
       "<matplotlib.figure.Figure at 0x7f03f83355c0>"
      ]
     },
     "metadata": {
      "needs_background": "light"
     },
     "output_type": "display_data"
    }
   ],
   "source": [
    "sns.barplot(x='gender',y='count',data=events_w_churn.groupBy('gender').agg(countDistinct('userId').alias('count')).toPandas())"
   ]
  },
  {
   "cell_type": "code",
   "execution_count": 35,
   "metadata": {},
   "outputs": [
    {
     "data": {
      "text/plain": [
       "<matplotlib.axes._subplots.AxesSubplot at 0x7f03f8250f98>"
      ]
     },
     "execution_count": 35,
     "metadata": {},
     "output_type": "execute_result"
    },
    {
     "data": {
      "image/png": "[encoded data removed]",
      "text/plain": [
       "<matplotlib.figure.Figure at 0x7f03f8250a58>"
      ]
     },
     "metadata": {
      "needs_background": "light"
     },
     "output_type": "display_data"
    }
   ],
   "source": [
    "sns.barplot(x='churned', y='count', data = events_w_churn.select('userId', 'churned').groupBy('churned').agg(countDistinct('userId').alias('count')).toPandas())"
   ]
  },
  {
   "cell_type": "code",
   "execution_count": 36,
   "metadata": {},
   "outputs": [
    {
     "data": {
      "text/plain": [
       "<matplotlib.axes._subplots.AxesSubplot at 0x7f03f81c22b0>"
      ]
     },
     "execution_count": 36,
     "metadata": {},
     "output_type": "execute_result"
    },
    {
     "data": {
      "image/png": "[encoded data removed]",
      "text/plain": [
       "<matplotlib.figure.Figure at 0x7f03f822b780>"
      ]
     },
     "metadata": {
      "needs_background": "light"
     },
     "output_type": "display_data"
    }
   ],
   "source": [
    "sns.barplot(x='churned', y='count', hue='gender', data=events_w_churn.select('userId', 'churned', 'gender').groupBy('gender', 'churned').agg(countDistinct('userId').alias('count')).toPandas())"
   ]
  },
  {
   "cell_type": "markdown",
   "metadata": {},
   "source": [
    "# Feature Engineering\n",
    "Once you've familiarized yourself with the data, build out the features you find promising to train your model on. To work with the full dataset, you can follow the following steps.\n",
    "- Write a script to extract the necessary features from the smaller subset of data\n",
    "- Ensure that your script is scalable, using the best practices discussed in Lesson 3\n",
    "- Try your script on the full data set, debugging your script if necessary\n",
    "\n",
    "If you are working in the classroom workspace, you can just extract features based on the small subset of data contained here. Be sure to transfer over this work to the larger dataset when you work on your Spark cluster."
   ]
  },
  {
   "cell_type": "code",
   "execution_count": 37,
   "metadata": {},
   "outputs": [
    {
     "name": "stdout",
     "output_type": "stream",
     "text": [
      "root\n",
      " |-- artist: string (nullable = true)\n",
      " |-- auth: string (nullable = true)\n",
      " |-- firstName: string (nullable = true)\n",
      " |-- gender: string (nullable = true)\n",
      " |-- itemInSession: long (nullable = true)\n",
      " |-- lastName: string (nullable = true)\n",
      " |-- length: double (nullable = true)\n",
      " |-- level: string (nullable = true)\n",
      " |-- location: string (nullable = true)\n",
      " |-- method: string (nullable = true)\n",
      " |-- page: string (nullable = true)\n",
      " |-- registration: long (nullable = true)\n",
      " |-- sessionId: long (nullable = true)\n",
      " |-- song: string (nullable = true)\n",
      " |-- status: long (nullable = true)\n",
      " |-- ts: long (nullable = true)\n",
      " |-- userAgent: string (nullable = true)\n",
      " |-- userId: string (nullable = true)\n",
      " |-- time: string (nullable = true)\n",
      " |-- churned: long (nullable = false)\n",
      " |-- reg_time: string (nullable = true)\n",
      " |-- days_since_registration: double (nullable = true)\n",
      " |-- total_days_on_sparkify: double (nullable = true)\n",
      "\n"
     ]
    }
   ],
   "source": [
    "events_w_churn.printSchema()"
   ]
  },
  {
   "cell_type": "code",
   "execution_count": 38,
   "metadata": {},
   "outputs": [
    {
     "name": "stdout",
     "output_type": "stream",
     "text": [
      "+--------------------+------+\n",
      "|                page| count|\n",
      "+--------------------+------+\n",
      "|              Cancel|    52|\n",
      "|Cancellation Conf...|    52|\n",
      "|    Submit Downgrade|    63|\n",
      "|      Submit Upgrade|   159|\n",
      "|               Error|   252|\n",
      "|       Save Settings|   310|\n",
      "|               About|   495|\n",
      "|             Upgrade|   499|\n",
      "|                Help|  1454|\n",
      "|            Settings|  1514|\n",
      "|           Downgrade|  2055|\n",
      "|         Thumbs Down|  2546|\n",
      "|              Logout|  3226|\n",
      "|         Roll Advert|  3933|\n",
      "|          Add Friend|  4277|\n",
      "|     Add to Playlist|  6526|\n",
      "|                Home| 10082|\n",
      "|           Thumbs Up| 12551|\n",
      "|            NextSong|228108|\n",
      "+--------------------+------+\n",
      "\n"
     ]
    }
   ],
   "source": [
    "events.groupBy(\"page\").count().orderBy('count').show()"
   ]
  },
  {
   "cell_type": "code",
   "execution_count": 39,
   "metadata": {},
   "outputs": [
    {
     "name": "stdout",
     "output_type": "stream",
     "text": [
      "+--------------------+---------+---------+------+-------------+---------+---------+-----+--------------------+------+--------+-------------+---------+--------------------+------+-------------+--------------------+------+-------------------+-------+-------------------+-----------------------+----------------------+\n",
      "|              artist|     auth|firstName|gender|itemInSession| lastName|   length|level|            location|method|    page| registration|sessionId|                song|status|           ts|           userAgent|userId|               time|churned|           reg_time|days_since_registration|total_days_on_sparkify|\n",
      "+--------------------+---------+---------+------+-------------+---------+---------+-----+--------------------+------+--------+-------------+---------+--------------------+------+-------------+--------------------+------+-------------------+-------+-------------------+-----------------------+----------------------+\n",
      "|Sleeping With Sirens|Logged In| Darianna|     F|            0|Carpenter|202.97098| free|Bridgeport-Stamfo...|   PUT|NextSong|1538016340000|       31|Captain Tyin Knot...|   200|1539003534000|\"Mozilla/5.0 (iPh...|100010|2018-10-08 12:58:54|      0|2018-09-27 02:45:40|                   11.0|                  56.0|\n",
      "+--------------------+---------+---------+------+-------------+---------+---------+-----+--------------------+------+--------+-------------+---------+--------------------+------+-------------+--------------------+------+-------------------+-------+-------------------+-----------------------+----------------------+\n",
      "only showing top 1 row\n",
      "\n"
     ]
    }
   ],
   "source": [
    "events_w_churn.show(1)"
   ]
  },
  {
   "cell_type": "code",
   "execution_count": 11,
   "metadata": {},
   "outputs": [],
   "source": [
    "# Feature generation: number of unique pages visited \n",
    "\n",
    "events_w_features = events_w_churn.withColumn('total_unique_pages_visited', f.size(f.collect_set('page').over(user_window)))\\\n",
    "                            .withColumn('total_events', f.count('ts').over(user_window)) \\\n",
    "                            .withColumn('total_artists_heard', f.size(f.collect_set('artist').over(user_window))) \\\n",
    "                            .withColumn('total_unique_songs_heard', f.size(f.collect_set('song').over(user_window))) \\\n",
    "                            .withColumn('is_next_song', f.when(events_w_churn.page=='NextSong', 1).otherwise(0))\\\n",
    "                            .withColumn('is_thumbs_up', f.when(events_w_churn.page=='Thumbs Up', 1).otherwise(0)) \\\n",
    "                            .withColumn('is_thumbs_down', f.when(events_w_churn.page=='Thumbs Down', 1).otherwise(0)) \\\n",
    "                            .withColumn('is_settings', f.when(events_w_churn.page=='Settings', 1).otherwise(0)) \\\n",
    "                            .withColumn('is_add_friend', f.when(events_w_churn.page=='Add Friend', 1).otherwise(0))\\\n",
    "                            .withColumn('is_add_to_playlist', f.when(events_w_churn.page=='Add to Playlist',1).otherwise(0))\\\n",
    "                            .withColumn('is_about', f.when(events_w_churn.page=='About',1).otherwise(0))\\\n",
    "                            .withColumn('is_help', f.when(events_w_churn.page=='Help',1).otherwise(0))\\\n",
    "                            .withColumn('is_error', f.when(events_w_churn.page=='Error',1).otherwise(0))\n",
    "\n",
    "# add average number of songs per session for each user\n"
   ]
  },
  {
   "cell_type": "code",
   "execution_count": 41,
   "metadata": {},
   "outputs": [
    {
     "name": "stdout",
     "output_type": "stream",
     "text": [
      "root\n",
      " |-- artist: string (nullable = true)\n",
      " |-- auth: string (nullable = true)\n",
      " |-- firstName: string (nullable = true)\n",
      " |-- gender: string (nullable = true)\n",
      " |-- itemInSession: long (nullable = true)\n",
      " |-- lastName: string (nullable = true)\n",
      " |-- length: double (nullable = true)\n",
      " |-- level: string (nullable = true)\n",
      " |-- location: string (nullable = true)\n",
      " |-- method: string (nullable = true)\n",
      " |-- page: string (nullable = true)\n",
      " |-- registration: long (nullable = true)\n",
      " |-- sessionId: long (nullable = true)\n",
      " |-- song: string (nullable = true)\n",
      " |-- status: long (nullable = true)\n",
      " |-- ts: long (nullable = true)\n",
      " |-- userAgent: string (nullable = true)\n",
      " |-- userId: string (nullable = true)\n",
      " |-- time: string (nullable = true)\n",
      " |-- churned: long (nullable = false)\n",
      " |-- reg_time: string (nullable = true)\n",
      " |-- days_since_registration: double (nullable = true)\n",
      " |-- total_days_on_sparkify: double (nullable = true)\n",
      " |-- total_unique_pages_visited: integer (nullable = false)\n",
      " |-- total_events: long (nullable = false)\n",
      " |-- total_artists_heard: integer (nullable = false)\n",
      " |-- total_unique_songs_heard: integer (nullable = false)\n",
      " |-- is_next_song: integer (nullable = false)\n",
      " |-- is_thumbs_up: integer (nullable = false)\n",
      " |-- is_thumbs_down: integer (nullable = false)\n",
      " |-- is_settings: integer (nullable = false)\n",
      " |-- is_add_friend: integer (nullable = false)\n",
      " |-- is_add_to_playlist: integer (nullable = false)\n",
      " |-- is_about: integer (nullable = false)\n",
      " |-- is_help: integer (nullable = false)\n",
      " |-- is_error: integer (nullable = false)\n",
      "\n"
     ]
    }
   ],
   "source": [
    "events_w_features.printSchema()"
   ]
  },
  {
   "cell_type": "code",
   "execution_count": 12,
   "metadata": {},
   "outputs": [],
   "source": [
    "# drop extra columns that are no longer needed or \n",
    "# will not be included in this modelling iteration\n",
    "\n",
    "drop_list = ['artist', 'auth', 'firstName', \n",
    "            'itemInSession', 'lastName', 'location',\n",
    "            'method', 'registration', 'song',\n",
    "            'status', 'ts', 'userAgent']\n",
    "\n",
    "events_w_features = events_w_features.drop(*drop_list)"
   ]
  },
  {
   "cell_type": "code",
   "execution_count": 13,
   "metadata": {
    "scrolled": true
   },
   "outputs": [],
   "source": [
    "events_w_features = events_w_features.groupBy(\"userID\").agg(\n",
    "    f.first(\"churned\").alias(\"label\"),\n",
    "    f.first(\"gender\").alias(\"gender\"),\n",
    "    f.avg(\"length\").alias(\"avg_length\"),\n",
    "    f.min(\"length\").alias(\"min_length\"),\n",
    "    f.max(\"length\").alias(\"max_length\"),\n",
    "    f.first(\"level\").alias(\"subscription_level\"),\n",
    "    f.min(\"time\").alias(\"first_event_time\"),\n",
    "    f.max(\"time\").alias(\"last_event_time\"),\n",
    "    f.first(\"reg_time\").alias(\"reg_time\"),\n",
    "    f.first(\"days_since_registration\").alias(\"days_since_registration\"),  \n",
    "    f.first(\"total_days_on_sparkify\").alias(\"total_days_on_sparkify\"),\n",
    "    f.first(\"total_unique_pages_visited\").alias(\"total_unique_pages_visited\"),\n",
    "    f.first(\"total_events\").alias(\"total_events\"),\n",
    "    f.first(\"total_artists_heard\").alias(\"total_artists_heard\"),\n",
    "    f.first(\"total_unique_songs_heard\").alias(\"total_unique_songs_heard\"),\n",
    "    f.sum(\"is_next_song\").alias(\"total_next_song_events\"),\n",
    "    f.sum(\"is_thumbs_up\").alias(\"total_thumbs_up_events\"),\n",
    "    f.sum(\"is_thumbs_down\").alias(\"total_thumbs_down_events\"),\n",
    "    f.sum(\"is_settings\").alias(\"total_settings_events\"),\n",
    "    f.sum(\"is_add_friend\").alias(\"total_add_friend_events\"),\n",
    "    f.sum(\"is_add_to_playlist\").alias(\"total_add_to_playlist_events\"),\n",
    "    f.sum(\"is_about\").alias(\"total_about_events\"),\n",
    "    f.sum(\"is_error\").alias(\"total_error_events\"),\n",
    "    f.sum(\"is_help\").alias(\"total_help_events\")\n",
    ")"
   ]
  },
  {
   "cell_type": "code",
   "execution_count": 14,
   "metadata": {},
   "outputs": [],
   "source": [
    "df = events_w_features\n",
    "df = df.withColumn('days_bw_first_last_event', f.datediff('last_event_time', 'first_event_time'))\\\n",
    "        .drop('last_event_time')\\\n",
    "        .drop('first_event_time')\\\n",
    "        .drop('reg_time')"
   ]
  },
  {
   "cell_type": "markdown",
   "metadata": {},
   "source": [
    "# Modeling\n",
    "Split the full dataset into train, test, and validation sets. Test out several of the machine learning methods you learned. Evaluate the accuracy of the various models, tuning parameters as necessary. Determine your winning model based on test accuracy and report results on the validation set. Since the churned users are a fairly small subset, I suggest using F1 score as the metric to optimize."
   ]
  },
  {
   "cell_type": "code",
   "execution_count": 46,
   "metadata": {},
   "outputs": [
    {
     "name": "stdout",
     "output_type": "stream",
     "text": [
      "root\n",
      " |-- userID: string (nullable = true)\n",
      " |-- label: long (nullable = true)\n",
      " |-- gender: string (nullable = true)\n",
      " |-- avg_length: double (nullable = true)\n",
      " |-- min_length: double (nullable = true)\n",
      " |-- max_length: double (nullable = true)\n",
      " |-- subscription_level: string (nullable = true)\n",
      " |-- days_since_registration: double (nullable = true)\n",
      " |-- total_days_on_sparkify: double (nullable = true)\n",
      " |-- total_unique_pages_visited: integer (nullable = true)\n",
      " |-- total_events: long (nullable = true)\n",
      " |-- total_artists_heard: integer (nullable = true)\n",
      " |-- total_unique_songs_heard: integer (nullable = true)\n",
      " |-- total_next_song_events: long (nullable = true)\n",
      " |-- total_thumbs_up_events: long (nullable = true)\n",
      " |-- total_thumbs_down_events: long (nullable = true)\n",
      " |-- total_settings_events: long (nullable = true)\n",
      " |-- total_add_friend_events: long (nullable = true)\n",
      " |-- total_add_to_playlist_events: long (nullable = true)\n",
      " |-- total_about_events: long (nullable = true)\n",
      " |-- total_error_events: long (nullable = true)\n",
      " |-- total_help_events: long (nullable = true)\n",
      " |-- days_bw_first_last_event: integer (nullable = true)\n",
      "\n"
     ]
    }
   ],
   "source": [
    "df.printSchema()"
   ]
  },
  {
   "cell_type": "code",
   "execution_count": 15,
   "metadata": {},
   "outputs": [],
   "source": [
    "categorical_features = ['gender', 'subscription_level']\n",
    "numerical_features = set(df.columns)-set(categorical_features)"
   ]
  },
  {
   "cell_type": "markdown",
   "metadata": {},
   "source": [
    "### String Indexing of categorical columns"
   ]
  },
  {
   "cell_type": "code",
   "execution_count": 16,
   "metadata": {},
   "outputs": [],
   "source": [
    "# convert categorical feature to feature indexes\n",
    "indexers = [StringIndexer(inputCol=col, outputCol=col+\"_index\").fit(df) for col in categorical_features]\n",
    "\n",
    "pipeline = Pipeline(stages=indexers)\n",
    "indexed_df = pipeline.fit(df).transform(df).drop(*categorical_features)"
   ]
  },
  {
   "cell_type": "markdown",
   "metadata": {},
   "source": [
    "### Vector Assembling of all features"
   ]
  },
  {
   "cell_type": "code",
   "execution_count": 21,
   "metadata": {},
   "outputs": [],
   "source": [
    "# convert all features into a single vector\n",
    "\n",
    "input_cols = ['avg_length',\n",
    " 'min_length',\n",
    " 'max_length',\n",
    " 'days_since_registration',\n",
    " 'total_days_on_sparkify',\n",
    " 'total_unique_pages_visited',\n",
    " 'total_events',\n",
    " 'total_artists_heard',\n",
    " 'total_unique_songs_heard',\n",
    " 'total_next_song_events',\n",
    " 'total_thumbs_up_events',\n",
    " 'total_thumbs_down_events',\n",
    " 'total_settings_events',\n",
    " 'total_add_friend_events',\n",
    " 'total_add_to_playlist_events',\n",
    " 'total_about_events',\n",
    " 'total_error_events',\n",
    " 'total_help_events',\n",
    " 'days_bw_first_last_event', \n",
    " 'gender_index',\n",
    " 'subscription_level_index'\n",
    "]\n",
    "\n",
    "assembler = VectorAssembler(inputCols= input_cols, outputCol=\"feature_vector\")\n",
    "indexed_df = assembler.transform(indexed_df).drop(*input_cols)"
   ]
  },
  {
   "cell_type": "code",
   "execution_count": 22,
   "metadata": {},
   "outputs": [],
   "source": [
    "indexed_df = indexed_df.drop('features')"
   ]
  },
  {
   "cell_type": "code",
   "execution_count": 51,
   "metadata": {},
   "outputs": [
    {
     "data": {
      "text/plain": [
       "Row(userID='100010', label=0, feature_vector=DenseVector([243.4214, 52.2706, 538.8534, 11.0, 56.0, 11.0, 381.0, 252.0, 269.0, 275.0, 17.0, 5.0, 0.0, 4.0, 7.0, 1.0, 0.0, 2.0, 44.0, 1.0, 0.0]))"
      ]
     },
     "execution_count": 51,
     "metadata": {},
     "output_type": "execute_result"
    }
   ],
   "source": [
    "indexed_df.head()"
   ]
  },
  {
   "cell_type": "markdown",
   "metadata": {},
   "source": [
    "### Scale the features"
   ]
  },
  {
   "cell_type": "code",
   "execution_count": 23,
   "metadata": {},
   "outputs": [],
   "source": [
    "scaler = StandardScaler(inputCol=\"feature_vector\", outputCol=\"scaled_feature_vector\", withStd=True)\n",
    "scaled_indexed_df = scaler.fit(indexed_df).transform(indexed_df)"
   ]
  },
  {
   "cell_type": "code",
   "execution_count": 53,
   "metadata": {},
   "outputs": [
    {
     "data": {
      "text/plain": [
       "Row(userID='100010', label=0, feature_vector=DenseVector([243.4214, 52.2706, 538.8534, 11.0, 56.0, 11.0, 381.0, 252.0, 269.0, 275.0, 17.0, 5.0, 0.0, 4.0, 7.0, 1.0, 0.0, 2.0, 44.0, 1.0, 0.0]), scaled_feature_vector=DenseVector([40.9675, 1.4561, 0.7533, 0.3357, 1.4871, 3.336, 0.2866, 0.4173, 0.3001, 0.2489, 0.2596, 0.3823, 0.0, 0.1943, 0.214, 0.3205, 0.0, 0.2761, 2.3153, 2.0013, 0.0]))"
      ]
     },
     "execution_count": 53,
     "metadata": {},
     "output_type": "execute_result"
    }
   ],
   "source": [
    "scaled_indexed_df.head()"
   ]
  },
  {
   "cell_type": "code",
   "execution_count": 24,
   "metadata": {},
   "outputs": [],
   "source": [
    "scaled_indexed_df = scaled_indexed_df.drop('feature_vector').drop('userID')"
   ]
  },
  {
   "cell_type": "markdown",
   "metadata": {},
   "source": [
    "### Train model"
   ]
  },
  {
   "cell_type": "code",
   "execution_count": 25,
   "metadata": {},
   "outputs": [],
   "source": [
    "# split data into train and test\n",
    "train, test = scaled_indexed_df.randomSplit([0.8,0.2], seed=6)"
   ]
  },
  {
   "cell_type": "markdown",
   "metadata": {},
   "source": [
    "#### Logistic Regression"
   ]
  },
  {
   "cell_type": "code",
   "execution_count": 35,
   "metadata": {
    "scrolled": true
   },
   "outputs": [
    {
     "data": {
      "text/plain": [
       "[0.8104813597596539, 0.7895091657294996]"
      ]
     },
     "execution_count": 35,
     "metadata": {},
     "output_type": "execute_result"
    }
   ],
   "source": [
    "lr = LogisticRegression(labelCol='label', featuresCol='scaled_feature_vector',\n",
    "                        maxIter=10, regParam=0.0)\n",
    "\n",
    "evaluator = MulticlassClassificationEvaluator(metricName=\"f1\")\n",
    "\n",
    "paramGrid = ParamGridBuilder() \\\n",
    "    .addGrid(lr.regParam,[0.0, 0.1]) \\\n",
    "    .build()\n",
    "\n",
    "crossval = CrossValidator(estimator=lr,\n",
    "                          estimatorParamMaps=paramGrid,\n",
    "                          evaluator=evaluator,\n",
    "                          numFolds=3)\n",
    "\n",
    "cvModel = crossval.fit(train)\n",
    "cvModel.avgMetrics"
   ]
  },
  {
   "cell_type": "markdown",
   "metadata": {},
   "source": [
    "#### Random Forest Classifier"
   ]
  },
  {
   "cell_type": "code",
   "execution_count": null,
   "metadata": {},
   "outputs": [],
   "source": [
    "rf = RandomForestClassifier(labelCol=\"label\", featuresCol=\"scaled_feature_vector\", numTrees=10)\n",
    "\n",
    "evaluator_rf = MulticlassClassificationEvaluator(metricName=\"f1\")\n",
    "\n",
    "paramGrid_rf = ParamGridBuilder() \\\n",
    "    .addGrid(rf.numTrees,[5, 10]) \\\n",
    "    .build()\n",
    "\n",
    "crossval_rf = CrossValidator(estimator=rf,\n",
    "                          estimatorParamMaps=paramGrid_rf,\n",
    "                          evaluator=evaluator_rf,\n",
    "                          numFolds=3)\n",
    "\n",
    "cvModel_rf = crossval_rf.fit(train)\n",
    "cvModel_rf.avgMetrics"
   ]
  },
  {
   "cell_type": "markdown",
   "metadata": {},
   "source": [
    "#### Gradient Boosted Trees"
   ]
  },
  {
   "cell_type": "code",
   "execution_count": null,
   "metadata": {},
   "outputs": [
    {
     "name": "stderr",
     "output_type": "stream",
     "text": [
      "Exception ignored in: <object repr() failed>\n",
      "Traceback (most recent call last):\n",
      "  File \"/opt/spark-2.4.3-bin-hadoop2.7/python/pyspark/ml/wrapper.py\", line 40, in __del__\n",
      "    if SparkContext._active_spark_context and self._java_obj is not None:\n",
      "AttributeError: 'GBTClassifier' object has no attribute '_java_obj'\n"
     ]
    }
   ],
   "source": [
    "gbt = GBTClassifier(labelCol=\"label\", featuresCol=\"scaled_feature_vector\", maxDepth=5)\n",
    "\n",
    "evaluator_gbt = MulticlassClassificationEvaluator(metricName=\"f1\")\n",
    "\n",
    "paramGrid_gbt = ParamGridBuilder() \\\n",
    "    .addGrid(gbt.maxDepth,[5, 10]) \\\n",
    "    .build()\n",
    "\n",
    "crossval_gbt = CrossValidator(estimator=gbt,\n",
    "                          estimatorParamMaps=paramGrid_gbt,\n",
    "                          evaluator=evaluator_gbt,\n",
    "                          numFolds=3)\n",
    "\n",
    "cvModel_gbt = crossval_gbt.fit(train)\n",
    "cvModel_gbt.avgMetrics"
   ]
  },
  {
   "cell_type": "code",
   "execution_count": null,
   "metadata": {},
   "outputs": [],
   "source": [
    "rf_final = RandomForestClassifier(labelCol=\"label\", featuresCol=\"scaled_feature_vector\", numTrees=5)\n",
    "\n",
    "rf_model = rf_final.fit(train)\n",
    "\n",
    "final_results = rf_model.transform(test)"
   ]
  },
  {
   "cell_type": "code",
   "execution_count": null,
   "metadata": {},
   "outputs": [],
   "source": [
    "print(evaluator.evaluate(final_results, {evaluator.metricName: \"accuracy\"}))"
   ]
  },
  {
   "cell_type": "code",
   "execution_count": null,
   "metadata": {},
   "outputs": [],
   "source": [
    "print(evaluator.evaluate(final_results, {evaluator.metricName: \"f1\"}))"
   ]
  },
  {
   "cell_type": "code",
   "execution_count": null,
   "metadata": {},
   "outputs": [],
   "source": [
    "feature_importances = rf_model.featureImportances.values.tolist()\n",
    "feat_imp_df = pd.DataFrame({'feature_importance': feature_importances, 'columns': input_cols})\n",
    "sns.barplot(x='feature_importance', y='columns', data=feat_imp_df)"
   ]
  },
  {
   "cell_type": "code",
   "execution_count": 30,
   "metadata": {},
   "outputs": [
    {
     "name": "stdout",
     "output_type": "stream",
     "text": [
      "F1 score for Logistic Regression model is :  0.5824242424242424\n"
     ]
    }
   ],
   "source": [
    "res = cvModel_rf.transform(test)\n",
    "\n",
    "score = evaluator.evaluate(res)\n",
    "print(\"F1 score for Logistic Regression model is : \", score)"
   ]
  },
  {
   "cell_type": "markdown",
   "metadata": {},
   "source": [
    "# Final Steps\n",
    "Clean up your code, adding comments and renaming variables to make the code easier to read and maintain. Refer to the Spark Project Overview page and Data Scientist Capstone Project Rubric to make sure you are including all components of the capstone project and meet all expectations. Remember, this includes thorough documentation in a README file in a Github repository, as well as a web app or blog post."
   ]
  },
  {
   "cell_type": "code",
   "execution_count": null,
   "metadata": {},
   "outputs": [],
   "source": []
  }
 ],
 "metadata": {
  "kernelspec": {
   "display_name": "Python 3",
   "language": "python",
   "name": "python3"
  },
  "language_info": {
   "codemirror_mode": {
    "name": "ipython",
    "version": 3
   },
   "file_extension": ".py",
   "mimetype": "text/x-python",
   "name": "python",
   "nbconvert_exporter": "python",
   "pygments_lexer": "ipython3",
   "version": "3.6.3"
  }
 },
 "nbformat": 4,
 "nbformat_minor": 2
}
